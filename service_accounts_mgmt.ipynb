{
 "cells": [
  {
   "cell_type": "code",
   "execution_count": null,
   "id": "93f8f958-09e8-4cc1-8262-a20851ad2245",
   "metadata": {},
   "outputs": [],
   "source": [
    "import os\n",
    "import requests\n",
    "api_proxy = os.environ['DOMINO_API_PROXY']\n",
    "url = f\"{api_proxy}/v4/accounts/68ac9b59ea374e2b81c48d75/gitcredentials\"\n",
    "p = {\"name\":\"test\",\"gitServiceProvider\":\"github\",\"accessType\":\"token\",\"token\":\"xrererer\",\"type\":\"TokenGitCredentialDto\"}\n"
   ]
  },
  {
   "cell_type": "code",
   "execution_count": null,
   "id": "aa854701-7f5f-4270-886d-c30cb8991fd5",
   "metadata": {},
   "outputs": [],
   "source": [
    "p1 = requests.get(url)\n",
    "p1.json()"
   ]
  },
  {
   "cell_type": "code",
   "execution_count": null,
   "id": "11f0c4de-88b2-4784-aa79-5e99a6ffd63a",
   "metadata": {},
   "outputs": [],
   "source": [
    "p2 = requests.post(url,json=p)"
   ]
  },
  {
   "cell_type": "code",
   "execution_count": null,
   "id": "9657315f-676d-499d-86d9-9ad3a442bdee",
   "metadata": {},
   "outputs": [],
   "source": [
    "p2.text"
   ]
  },
  {
   "cell_type": "code",
   "execution_count": null,
   "id": "3c2f6bad-2ec7-400c-8dd4-823a4999aaa2",
   "metadata": {},
   "outputs": [],
   "source": [
    "del_id=\"68b5fe664436a82da3559bdd\"\n",
    "url = f\"{api_proxy}/v4/accounts/68ac9b59ea374e2b81c48d75/gitcredentials/{del_id}\"\n",
    "p3 = requests.delete(url)\n",
    "p3.text"
   ]
  },
  {
   "cell_type": "code",
   "execution_count": null,
   "id": "ca156d0f-fcff-473d-824b-23b8fae7add3",
   "metadata": {},
   "outputs": [],
   "source": [
    "repo_id=\"68b08bc0dc77613e66e6364f\"\n",
    "project_id=\"68b08bbfdc77613e66e6364e\"\n",
    "cred_id=\"68b08a6811a90f7af0400bf4\"\n",
    "url = f\"{api_proxy}/v4/projects/{project_id}/repository/{repo_id}/credentialMapping\"\n",
    "#url = f\"{api_proxy}/v4/projects/68b08bbfdc77613e66e6364e/repository/68b08bc0dc77613e66e6364f/credentialMapping\"\n",
    "\n",
    "b = {\"credentialId\": cred_id}\n",
    "x = requests.put(url,json=b)\n",
    "x\n",
    "#v4/projects/68b08bbfdc77613e66e6364e/repository/68b08bc0dc77613e66e6364f/credentialMapping"
   ]
  },
  {
   "cell_type": "code",
   "execution_count": null,
   "id": "5f2b338e-c544-498f-b40f-7ed31feac316",
   "metadata": {},
   "outputs": [],
   "source": [
    "project_id=\"68b08bbfdc77613e66e6364e\"\n",
    "url = f\"{api_proxy}/v4/projects/{project_id}\"\n",
    "p1 = requests.get(url)\n",
    "p1.json()"
   ]
  },
  {
   "cell_type": "code",
   "execution_count": null,
   "id": "9d82f1d0-6ac5-44ef-98e1-76db5ccc5665",
   "metadata": {},
   "outputs": [],
   "source": []
  }
 ],
 "metadata": {
  "kernelspec": {
   "display_name": "Python 3 (ipykernel)",
   "language": "python",
   "name": "python3"
  },
  "language_info": {
   "codemirror_mode": {
    "name": "ipython",
    "version": 3
   },
   "file_extension": ".py",
   "mimetype": "text/x-python",
   "name": "python",
   "nbconvert_exporter": "python",
   "pygments_lexer": "ipython3",
   "version": "3.10.14"
  }
 },
 "nbformat": 4,
 "nbformat_minor": 5
}
