{
 "cells": [
  {
   "cell_type": "code",
   "execution_count": 5,
   "id": "bdbff7d0-937a-4ef6-97d7-ff412802591c",
   "metadata": {},
   "outputs": [],
   "source": [
    "import requests\n",
    "import os\n",
    "\n",
    "\n",
    "base_url_of_cluster_scaler = \"http://ddl-cluster-scaler-svc.domino-field.svc.cluster.local\"\n",
    "service_name=\"ddl_cluster_scaler\"\n",
    "\n",
    "def is_cluster_auto_scaler_healthy():\n",
    "    # Is service running\n",
    "    healthz_url = f\"{base_url_of_cluster_scaler}/healthz\"\n",
    "    result = requests.get(healthz_url)\n",
    "    return result.status_code, result.text"
   ]
  },
  {
   "cell_type": "code",
   "execution_count": 6,
   "id": "7ea4d674-2018-4c60-ac08-12cbef86ff20",
   "metadata": {},
   "outputs": [
    {
     "data": {
      "text/plain": [
       "(200, '{\"status\":\"healthy\"}\\n')"
      ]
     },
     "execution_count": 6,
     "metadata": {},
     "output_type": "execute_result"
    }
   ],
   "source": [
    "is_cluster_auto_scaler_healthy()"
   ]
  },
  {
   "cell_type": "code",
   "execution_count": 7,
   "id": "8d613409-537c-4e56-9c20-b31e25d5b14e",
   "metadata": {},
   "outputs": [],
   "source": [
    "def get_auth_headers():\n",
    "    domino_api_proxy= os.environ['DOMINO_API_PROXY']\n",
    "    #This is a proxy for the service account tokem\n",
    "    token = requests.get(f\"{domino_api_proxy}/access-token\").text\n",
    "    headers = {\n",
    "        \"Authorization\": f\"Bearer {token}\",\n",
    "        \"Content-Type\": \"application/json\"   # add this if you're posting JSON\n",
    "    }\n",
    "    return headers "
   ]
  },
  {
   "cell_type": "code",
   "execution_count": null,
   "id": "7eed158d-5c6f-4368-8dfc-abeb349884ee",
   "metadata": {},
   "outputs": [],
   "source": [
    "def get_cluster_status(cluster_kind:str=\"rayclusters\"):  \n",
    "    cluster_id_prefix = cluster_kind.replace(\"clusters\",\"\")\n",
    "    cluster_id = f\"{cluster_id_prefix}-{os.environ['DOMINO_RUN_ID']}\"\n",
    "    print(cluster_id)\n",
    "    get_cluster_url = f\"{base_url_of_cluster_scaler}/{service_name}/get/{cluster_kind}/{cluster_id}\"\n",
    "    print(get_cluster_url)\n",
    "    resp = requests.get(get_cluster_url,headers=get_auth_headers())\n",
    "    print(f\"Status code {resp.status_code}\")\n",
    "    cluster_details = resp.json()\n",
    "    return cluster_details\n",
    "\n"
   ]
  },
  {
   "cell_type": "code",
   "execution_count": null,
   "id": "d15d13a9-0bda-4944-b10b-f334d984184d",
   "metadata": {},
   "outputs": [],
   "source": [
    "def scale_cluster(cluster_kind:str=\"rayclusters\",replicas:int=1):\n",
    "    cluster_id_prefix = cluster_kind.replace(\"clusters\",\"\")\n",
    "    cluster_id = f\"{cluster_id_prefix}-{os.environ['DOMINO_RUN_ID']}\"\n",
    "    scale_cluster_url = f\"{base_url_of_cluster_scaler}/{service_name}/scale/{cluster_kind}/{cluster_id}\"\n",
    "    print(scale_cluster_url)\n",
    "    \n",
    "    resp = requests.post(\n",
    "        scale_cluster_url,\n",
    "        headers=get_auth_headers(),\n",
    "        json={\"replicas\": replicas},\n",
    "        timeout=(3.05, 10),\n",
    "    )\n",
    "    print(f\"Status code {resp.status_code}\")\n",
    "    cluster_details = resp.json()\n",
    "    return cluster_details"
   ]
  }
 ],
 "metadata": {
  "kernelspec": {
   "display_name": "Python 3 (ipykernel)",
   "language": "python",
   "name": "python3"
  },
  "language_info": {
   "codemirror_mode": {
    "name": "ipython",
    "version": 3
   },
   "file_extension": ".py",
   "mimetype": "text/x-python",
   "name": "python",
   "nbconvert_exporter": "python",
   "pygments_lexer": "ipython3",
   "version": "3.10.14"
  }
 },
 "nbformat": 4,
 "nbformat_minor": 5
}
