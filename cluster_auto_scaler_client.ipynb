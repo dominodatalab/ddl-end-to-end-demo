{
 "cells": [
  {
   "cell_type": "code",
   "execution_count": null,
   "id": "36746bee-b49a-4c52-a901-5f027fe2264c",
   "metadata": {},
   "outputs": [],
   "source": [
    "from utils import cluster_scaler_client\n",
    "cluster_scaler_client.scale_cluster(cluster_kind=\"rayclusters\",replicas=4)\n",
    "cluster_scaler_client.wait_until_scaling_complete(cluster_kind=\"rayclusters\")"
   ]
  },
  {
   "cell_type": "code",
   "execution_count": 3,
   "id": "85a17fed-2aae-4939-85f8-0b7d44cf77c4",
   "metadata": {},
   "outputs": [
    {
     "name": "stdout",
     "output_type": "stream",
     "text": [
      "http://ddl-cluster-scaler-svc.domino-field.svc.cluster.local/ddl_cluster_scaler/scale/rayclusters/ray-68b5e1f3b7910b03aaf26bb0\n",
      "Status code 200\n",
      "ray-68b5e1f3b7910b03aaf26bb0\n",
      "http://ddl-cluster-scaler-svc.domino-field.svc.cluster.local/ddl_cluster_scaler/get/rayclusters/ray-68b5e1f3b7910b03aaf26bb0\n",
      "Status code 200\n",
      "Expected worker nodes 1\n",
      "Current worker nodes ['ray-68b5e1f3b7910b03aaf26bb0-ray-worker-0', 'ray-68b5e1f3b7910b03aaf26bb0-ray-worker-1', 'ray-68b5e1f3b7910b03aaf26bb0-ray-worker-2', 'ray-68b5e1f3b7910b03aaf26bb0-ray-worker-3']\n",
      "Scaling not yet done...\n",
      "ray-68b5e1f3b7910b03aaf26bb0\n",
      "http://ddl-cluster-scaler-svc.domino-field.svc.cluster.local/ddl_cluster_scaler/get/rayclusters/ray-68b5e1f3b7910b03aaf26bb0\n",
      "Status code 200\n",
      "Expected worker nodes 1\n",
      "Current worker nodes ['ray-68b5e1f3b7910b03aaf26bb0-ray-worker-0', 'ray-68b5e1f3b7910b03aaf26bb0-ray-worker-1', 'ray-68b5e1f3b7910b03aaf26bb0-ray-worker-2', 'ray-68b5e1f3b7910b03aaf26bb0-ray-worker-3']\n",
      "Scaling not yet done...\n",
      "ray-68b5e1f3b7910b03aaf26bb0\n",
      "http://ddl-cluster-scaler-svc.domino-field.svc.cluster.local/ddl_cluster_scaler/get/rayclusters/ray-68b5e1f3b7910b03aaf26bb0\n",
      "Status code 200\n",
      "Expected worker nodes 1\n",
      "Current worker nodes ['ray-68b5e1f3b7910b03aaf26bb0-ray-worker-0', 'ray-68b5e1f3b7910b03aaf26bb0-ray-worker-1', 'ray-68b5e1f3b7910b03aaf26bb0-ray-worker-2', 'ray-68b5e1f3b7910b03aaf26bb0-ray-worker-3']\n",
      "Scaling not yet done...\n",
      "ray-68b5e1f3b7910b03aaf26bb0\n",
      "http://ddl-cluster-scaler-svc.domino-field.svc.cluster.local/ddl_cluster_scaler/get/rayclusters/ray-68b5e1f3b7910b03aaf26bb0\n",
      "Status code 200\n",
      "Expected worker nodes 1\n",
      "Current worker nodes ['ray-68b5e1f3b7910b03aaf26bb0-ray-worker-0', 'ray-68b5e1f3b7910b03aaf26bb0-ray-worker-1', 'ray-68b5e1f3b7910b03aaf26bb0-ray-worker-2', 'ray-68b5e1f3b7910b03aaf26bb0-ray-worker-3']\n",
      "Scaling not yet done...\n",
      "ray-68b5e1f3b7910b03aaf26bb0\n",
      "http://ddl-cluster-scaler-svc.domino-field.svc.cluster.local/ddl_cluster_scaler/get/rayclusters/ray-68b5e1f3b7910b03aaf26bb0\n",
      "Status code 200\n",
      "Expected worker nodes 1\n",
      "Current worker nodes ['ray-68b5e1f3b7910b03aaf26bb0-ray-worker-0', 'ray-68b5e1f3b7910b03aaf26bb0-ray-worker-1', 'ray-68b5e1f3b7910b03aaf26bb0-ray-worker-2', 'ray-68b5e1f3b7910b03aaf26bb0-ray-worker-3']\n",
      "Scaling not yet done...\n",
      "ray-68b5e1f3b7910b03aaf26bb0\n",
      "http://ddl-cluster-scaler-svc.domino-field.svc.cluster.local/ddl_cluster_scaler/get/rayclusters/ray-68b5e1f3b7910b03aaf26bb0\n",
      "Status code 200\n",
      "Expected worker nodes 1\n",
      "Current worker nodes ['ray-68b5e1f3b7910b03aaf26bb0-ray-worker-0', 'ray-68b5e1f3b7910b03aaf26bb0-ray-worker-1', 'ray-68b5e1f3b7910b03aaf26bb0-ray-worker-2', 'ray-68b5e1f3b7910b03aaf26bb0-ray-worker-3']\n",
      "Scaling not yet done...\n",
      "ray-68b5e1f3b7910b03aaf26bb0\n",
      "http://ddl-cluster-scaler-svc.domino-field.svc.cluster.local/ddl_cluster_scaler/get/rayclusters/ray-68b5e1f3b7910b03aaf26bb0\n",
      "Status code 200\n",
      "Expected worker nodes 1\n",
      "Current worker nodes ['ray-68b5e1f3b7910b03aaf26bb0-ray-worker-0', 'ray-68b5e1f3b7910b03aaf26bb0-ray-worker-1', 'ray-68b5e1f3b7910b03aaf26bb0-ray-worker-2', 'ray-68b5e1f3b7910b03aaf26bb0-ray-worker-3']\n",
      "Scaling not yet done...\n",
      "ray-68b5e1f3b7910b03aaf26bb0\n",
      "http://ddl-cluster-scaler-svc.domino-field.svc.cluster.local/ddl_cluster_scaler/get/rayclusters/ray-68b5e1f3b7910b03aaf26bb0\n",
      "Status code 200\n",
      "Expected worker nodes 1\n",
      "Current worker nodes ['ray-68b5e1f3b7910b03aaf26bb0-ray-worker-0', 'ray-68b5e1f3b7910b03aaf26bb0-ray-worker-1', 'ray-68b5e1f3b7910b03aaf26bb0-ray-worker-2', 'ray-68b5e1f3b7910b03aaf26bb0-ray-worker-3']\n",
      "Scaling not yet done...\n",
      "ray-68b5e1f3b7910b03aaf26bb0\n",
      "http://ddl-cluster-scaler-svc.domino-field.svc.cluster.local/ddl_cluster_scaler/get/rayclusters/ray-68b5e1f3b7910b03aaf26bb0\n",
      "Status code 200\n",
      "Expected worker nodes 1\n",
      "Current worker nodes ['ray-68b5e1f3b7910b03aaf26bb0-ray-worker-0', 'ray-68b5e1f3b7910b03aaf26bb0-ray-worker-1', 'ray-68b5e1f3b7910b03aaf26bb0-ray-worker-2', 'ray-68b5e1f3b7910b03aaf26bb0-ray-worker-3']\n",
      "Scaling not yet done...\n",
      "ray-68b5e1f3b7910b03aaf26bb0\n",
      "http://ddl-cluster-scaler-svc.domino-field.svc.cluster.local/ddl_cluster_scaler/get/rayclusters/ray-68b5e1f3b7910b03aaf26bb0\n",
      "Status code 200\n",
      "Expected worker nodes 1\n",
      "Current worker nodes ['ray-68b5e1f3b7910b03aaf26bb0-ray-worker-0', 'ray-68b5e1f3b7910b03aaf26bb0-ray-worker-1', 'ray-68b5e1f3b7910b03aaf26bb0-ray-worker-2', 'ray-68b5e1f3b7910b03aaf26bb0-ray-worker-3']\n",
      "Scaling not yet done...\n",
      "ray-68b5e1f3b7910b03aaf26bb0\n",
      "http://ddl-cluster-scaler-svc.domino-field.svc.cluster.local/ddl_cluster_scaler/get/rayclusters/ray-68b5e1f3b7910b03aaf26bb0\n",
      "Status code 200\n",
      "Expected worker nodes 1\n",
      "Current worker nodes ['ray-68b5e1f3b7910b03aaf26bb0-ray-worker-0', 'ray-68b5e1f3b7910b03aaf26bb0-ray-worker-1', 'ray-68b5e1f3b7910b03aaf26bb0-ray-worker-2', 'ray-68b5e1f3b7910b03aaf26bb0-ray-worker-3']\n",
      "Scaling not yet done...\n",
      "ray-68b5e1f3b7910b03aaf26bb0\n",
      "http://ddl-cluster-scaler-svc.domino-field.svc.cluster.local/ddl_cluster_scaler/get/rayclusters/ray-68b5e1f3b7910b03aaf26bb0\n",
      "Status code 200\n",
      "Expected worker nodes 1\n",
      "Current worker nodes ['ray-68b5e1f3b7910b03aaf26bb0-ray-worker-0', 'ray-68b5e1f3b7910b03aaf26bb0-ray-worker-1', 'ray-68b5e1f3b7910b03aaf26bb0-ray-worker-2', 'ray-68b5e1f3b7910b03aaf26bb0-ray-worker-3']\n",
      "Scaling not yet done...\n",
      "ray-68b5e1f3b7910b03aaf26bb0\n",
      "http://ddl-cluster-scaler-svc.domino-field.svc.cluster.local/ddl_cluster_scaler/get/rayclusters/ray-68b5e1f3b7910b03aaf26bb0\n",
      "Status code 200\n",
      "Expected worker nodes 1\n",
      "Current worker nodes ['ray-68b5e1f3b7910b03aaf26bb0-ray-worker-0', 'ray-68b5e1f3b7910b03aaf26bb0-ray-worker-1', 'ray-68b5e1f3b7910b03aaf26bb0-ray-worker-2', 'ray-68b5e1f3b7910b03aaf26bb0-ray-worker-3']\n",
      "Scaling not yet done...\n",
      "ray-68b5e1f3b7910b03aaf26bb0\n",
      "http://ddl-cluster-scaler-svc.domino-field.svc.cluster.local/ddl_cluster_scaler/get/rayclusters/ray-68b5e1f3b7910b03aaf26bb0\n",
      "Status code 200\n",
      "Expected worker nodes 1\n",
      "Current worker nodes ['ray-68b5e1f3b7910b03aaf26bb0-ray-worker-0', 'ray-68b5e1f3b7910b03aaf26bb0-ray-worker-1', 'ray-68b5e1f3b7910b03aaf26bb0-ray-worker-2', 'ray-68b5e1f3b7910b03aaf26bb0-ray-worker-3']\n",
      "Scaling not yet done...\n",
      "ray-68b5e1f3b7910b03aaf26bb0\n",
      "http://ddl-cluster-scaler-svc.domino-field.svc.cluster.local/ddl_cluster_scaler/get/rayclusters/ray-68b5e1f3b7910b03aaf26bb0\n",
      "Status code 200\n",
      "Expected worker nodes 1\n",
      "Current worker nodes ['ray-68b5e1f3b7910b03aaf26bb0-ray-worker-0', 'ray-68b5e1f3b7910b03aaf26bb0-ray-worker-3']\n",
      "Scaling not yet done...\n",
      "ray-68b5e1f3b7910b03aaf26bb0\n",
      "http://ddl-cluster-scaler-svc.domino-field.svc.cluster.local/ddl_cluster_scaler/get/rayclusters/ray-68b5e1f3b7910b03aaf26bb0\n",
      "Status code 200\n",
      "Expected worker nodes 1\n",
      "Current worker nodes ['ray-68b5e1f3b7910b03aaf26bb0-ray-worker-0']\n"
     ]
    },
    {
     "data": {
      "text/plain": [
       "True"
      ]
     },
     "execution_count": 3,
     "metadata": {},
     "output_type": "execute_result"
    }
   ],
   "source": [
    "from utils import cluster_scaler_client\n",
    "cluster_scaler_client.scale_cluster(cluster_kind=\"rayclusters\",replicas=1)\n",
    "cluster_scaler_client.wait_until_scaling_complete(cluster_kind=\"rayclusters\")"
   ]
  },
  {
   "cell_type": "code",
   "execution_count": null,
   "id": "ac1a8bb4-2fef-4058-a1e8-b00c77f65fa2",
   "metadata": {},
   "outputs": [],
   "source": []
  }
 ],
 "metadata": {
  "kernelspec": {
   "display_name": "Python 3 (ipykernel)",
   "language": "python",
   "name": "python3"
  },
  "language_info": {
   "codemirror_mode": {
    "name": "ipython",
    "version": 3
   },
   "file_extension": ".py",
   "mimetype": "text/x-python",
   "name": "python",
   "nbconvert_exporter": "python",
   "pygments_lexer": "ipython3",
   "version": "3.10.14"
  }
 },
 "nbformat": 4,
 "nbformat_minor": 5
}
