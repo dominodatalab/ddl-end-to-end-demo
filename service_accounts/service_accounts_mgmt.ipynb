{
 "cells": [
  {
   "cell_type": "code",
   "execution_count": 2,
   "id": "7de67838-edce-4536-98f1-16c8bb4a1992",
   "metadata": {},
   "outputs": [],
   "source": [
    "import os\n",
    "import requests\n",
    "import json\n",
    "import sys\n",
    "import os\n",
    "\n",
    "sys.path.append(\"/mnt/code\")\n",
    "##Create service accounts and tokens\n",
    "#nucleus_uri = os.environ['DOMINO_API_HOST']\n",
    "api_proxy = os.environ['DOMINO_API_PROXY']\n",
    "svc_accounts_endpoint= f'{api_proxy}/v4/serviceAccounts'\n"
   ]
  },
  {
   "cell_type": "markdown",
   "id": "8f2114ec-4eed-4d4a-8cb9-d33b05b7547f",
   "metadata": {},
   "source": [
    "## Why Service Account?\n",
    "\n",
    "Service Accounts are industry standard ways of creating identities which only interact with the platform programmatically. They are identities used to execute automation workflows.\n"
   ]
  },
  {
   "cell_type": "markdown",
   "id": "68304f76-9d7b-4aa0-9e32-c6002d79c0cc",
   "metadata": {},
   "source": [
    "## What functions does this notebook expose?\n",
    "\n",
    "1. List all service accounts - `get_all_service_accounts`\n",
    "2. Create a new service account - `create_sa(sa_name)`\n",
    "3. Get the Keycloak Id associated with each SA - `get_idp_id_by_sa()`\n",
    "4. Get the Domino (Mongo) Id associated with each SA - `get_id_by_sa()`\n",
    "5. Create a named token for a service account. A service account can have many named tokens -`create_token(idpid,token_name)`\n",
    "6. Invalidate token for a service account. A token that is invalidated cannot be reactivated - `invalidate_token(token_name):`\n",
    "7. Delete token for a service account. A token with the same name can be recreated after its deleted - `delete_token(token_name)`\n",
    "8. Add a service account as a project collaborator (collab_id==sa_mongo_id) - `add_sa_as_project_collaborator(project_id,collab_id,project_role)`\n",
    "9. Get git credential id's associated with all users (id==mongo_id)- `get_git_credentials(id)`\n",
    "10. Get repo_id associated with a git backed project - `get_project_repo_id(project_id)`\n",
    "11. Get git credentials associated with a give project - `get_git_credentials`\n",
    "12. Add a git credential for a collaborating project for a given sa `add_git_cred_for_project_for_sa`\n",
    "13. Delete git credentials for a collaborating project for a given sa `delete_git_credentials_for_sa`\n",
    "\n",
    "(11,12,13) in the real world would be run by a SA token after the SA is added as a collaborator for a give project\n",
    "\n",
    "\n"
   ]
  },
  {
   "cell_type": "code",
   "execution_count": 5,
   "id": "cbc3ceb0-b430-41a1-99cf-5eee2d3ce001",
   "metadata": {},
   "outputs": [],
   "source": [
    "## First step is fetch all service account\n",
    "def  get_all_service_accounts():\n",
    "    print(svc_accounts_endpoint)\n",
    "    resp = requests.get(svc_accounts_endpoint)\n",
    "    print(resp)\n",
    "    users=[]\n",
    "    if resp.status_code==200:\n",
    "        for u in resp.json():\n",
    "            users.append(u['username'])\n",
    "    return users\n",
    "\n",
    "def create_sa(sa_name:str):\n",
    "    data = {'username':sa_name,'email':f'{sa_name}@xyz.com'}\n",
    "    resp = requests.post(svc_accounts_endpoint,json=data,headers={'Content-Type':'application/json'})\n",
    "    print(f'Response for creating svc account {sa_name} is {resp.status_code}')\n",
    "    print(resp.json())\n",
    "\n",
    "#Now get Idp Id of all emails. This only returns active service accounts. If you have deactivated the SA\n",
    "#you can no longer see it. The only place to get that is from Mongo or Keycloak to reactivate\n",
    "#Activation of SA using names is not supported\n",
    "def get_idp_id_by_sa():\n",
    "    resp = requests.get(svc_accounts_endpoint)\n",
    "    print(resp.json())\n",
    "    idp_by_user={}\n",
    "    if resp.status_code==200:\n",
    "        for u in resp.json():\n",
    "            idp_by_user[u['username']]=u['idpId']\n",
    "    return idp_by_user\n",
    "def get_id_by_sa():\n",
    "    resp = requests.get(svc_accounts_endpoint)\n",
    "    print(resp.json())\n",
    "    idp_by_user={}\n",
    "    if resp.status_code==200:\n",
    "        for u in resp.json():\n",
    "            idp_by_user[u['username']]=u['id']\n",
    "    return idp_by_user\n",
    "# You cannot overwrite an existing or even an invalidated token. You have to delete it first\n",
    "def create_token(idpid,token_name):\n",
    "    token_endpoint= f'{svc_accounts_endpoint}/{idpid}/tokens'    \n",
    "    resp = requests.post(f\"{token_endpoint}\",json={\"name\":token_name},\n",
    "                         headers={'Content-Type':'application/json'})\n",
    "    print(resp.status_code)\n",
    "    return resp.json()\n",
    "\n",
    "def deactivate_sa(idpid):\n",
    "    token_endpoint= f'{svc_accounts_endpoint}/{idpid}/deactivate'        \n",
    "    resp = requests.post(token_endpoint,headers={'Content-Type':'application/json'})\n",
    "    print(f\"Status code {resp.status_code} - Deactivating user {user}\")\n",
    "def activate_sa(idpid):\n",
    "    token_endpoint= f'{svc_accounts_endpoint}/{idpid}/activate'        \n",
    "    resp = requests.post(token_endpoint,headers={'Content-Type':'application/json'})\n",
    "    print(f\"Status code {resp.status_code} - Activating user {user}\")\n",
    "\n",
    "#List all tokens\n",
    "def list_all_tokens(idpid):\n",
    "    token_endpoint= f'{svc_accounts_endpoint}/{idpid}/tokens'    \n",
    "    \n",
    "    resp = requests.get(token_endpoint,headers={'Content-Type':'application/json'})\n",
    "    \n",
    "    if resp.status_code==200:\n",
    "       out = resp.json()           \n",
    "       pretty_json = json.dumps(out, indent=4)\n",
    "       print(pretty_json)\n",
    "\n",
    "def invalidate_token(token_name):\n",
    "    print(f\"Invalidating token {token_name}?\")\n",
    "    token_endpoint= f'{svc_accounts_endpoint}/{idpid}/tokens/{token_name}'    \n",
    "    resp = requests.post(f\"{token_endpoint}/invalidate\",headers={'Content-Type':'application/json'})\n",
    "    print(resp.status_code)\n",
    "def delete_token(token_name):\n",
    "    print(f\"Deleting token {token_name}?\")\n",
    "    token_endpoint= f'{svc_accounts_endpoint}/{idpid}/tokens/{token_name}'    \n",
    "    resp = requests.delete(f\"{token_endpoint}\",headers={'Content-Type':'application/json'})\n",
    "    print(resp.status_code)\n",
    "    "
   ]
  },
  {
   "cell_type": "code",
   "execution_count": 6,
   "id": "4ba9acc6-57ea-4a6e-b25b-041d42cb43ae",
   "metadata": {},
   "outputs": [
    {
     "name": "stdout",
     "output_type": "stream",
     "text": [
      "http://localhost:8899/v4/serviceAccounts\n",
      "<Response [200]>\n",
      "['svc-user-ds-u1', 'svc-admin-u2', 'svc-user-ds-u3']\n"
     ]
    }
   ],
   "source": [
    "print(get_all_service_accounts())"
   ]
  },
  {
   "cell_type": "code",
   "execution_count": 7,
   "id": "c6ea8f99-01b8-4e8c-9eca-990f144c3381",
   "metadata": {},
   "outputs": [
    {
     "name": "stdout",
     "output_type": "stream",
     "text": [
      "Response for creating svc account svc-user-ds-u1 is 500\n",
      "{'message': 'A user with the username svc-user-ds-u1 already exists.', 'success': False}\n",
      "Response for creating svc account svc-admin-u2 is 500\n",
      "{'message': 'A user with the username svc-admin-u2 already exists.', 'success': False}\n",
      "Response for creating svc account svc-user-ds-u3 is 500\n",
      "{'message': 'A user with the username svc-user-ds-u3 already exists.', 'success': False}\n"
     ]
    }
   ],
   "source": [
    "## Create Service Accounts if they don't exist\n",
    "svc_accounts=['svc-user-ds-u1','svc-admin-u2','svc-user-ds-u3']\n",
    "for sa_name in svc_accounts:\n",
    "    ## 200 \n",
    "    create_sa(sa_name)"
   ]
  },
  {
   "cell_type": "code",
   "execution_count": 8,
   "id": "e980a0a2-c950-4f34-94bd-506a68b64208",
   "metadata": {},
   "outputs": [
    {
     "name": "stdout",
     "output_type": "stream",
     "text": [
      "[{'username': 'svc-user-ds-u1', 'email': 'svc-user-ds-u1@xyz.com', 'id': '68b9af2aef0f2d1f1e95fdc4', 'idpId': '99d06216-d4bd-444f-9b03-1ed57c28e8ab'}, {'username': 'svc-admin-u2', 'email': 'svc-admin-u2@xyz.com', 'id': '68b9af2b63f3790aeb9ba4b8', 'idpId': '2679d9fa-2efc-4787-a9a5-8800a885de13'}, {'username': 'svc-user-ds-u3', 'email': 'svc-user-ds-u3@xyz.com', 'id': '68b9efbcef0f2d1f1e95fde4', 'idpId': 'd09a9497-0a07-4bb8-8d30-4477c0e6c4e5'}]\n"
     ]
    }
   ],
   "source": [
    "idp_by_user = get_idp_id_by_sa()"
   ]
  },
  {
   "cell_type": "code",
   "execution_count": 9,
   "id": "50117bcf-4f51-4410-be6a-34b231492246",
   "metadata": {},
   "outputs": [
    {
     "name": "stdout",
     "output_type": "stream",
     "text": [
      "500\n",
      "500\n",
      "500\n"
     ]
    }
   ],
   "source": [
    "## Create tokens for SA. Will return status code 200 if succeeded or 500 if it already exists\n",
    "results = []\n",
    "for user, idpid in idp_by_user.items():    \n",
    "    token_name = f\"{user}-token-app\"    \n",
    "    j = create_token(idpid,token_name)\n",
    "    results.append(j)\n",
    "\n",
    "with open(\"/tmp/tokens.json\", \"w\") as file:\n",
    "    json.dump(results, file, indent=2)"
   ]
  },
  {
   "cell_type": "code",
   "execution_count": 10,
   "id": "25012251-399f-48a1-8e0f-99e3a53bcae8",
   "metadata": {},
   "outputs": [
    {
     "data": {
      "text/plain": [
       "'\\nfor user, idpid in idp_by_user.items():\\n    deactivate_sa(idpid)\\nfor user, idpid in idp_by_user.items():\\n    activate_sa(idpid)\\n'"
      ]
     },
     "execution_count": 10,
     "metadata": {},
     "output_type": "execute_result"
    }
   ],
   "source": [
    "## Activate/Deactivate SVC Tokens. Do not use it currently because a token created for a deactivated/activated user\n",
    "## does not have `sub` field or claims making it unsuable\n",
    "'''\n",
    "for user, idpid in idp_by_user.items():\n",
    "    deactivate_sa(idpid)\n",
    "for user, idpid in idp_by_user.items():\n",
    "    activate_sa(idpid)\n",
    "'''"
   ]
  },
  {
   "cell_type": "code",
   "execution_count": null,
   "id": "747779e5-9219-4032-896e-c763ffa3d7fc",
   "metadata": {},
   "outputs": [],
   "source": []
  },
  {
   "cell_type": "code",
   "execution_count": 11,
   "id": "97448c8d-5475-4002-afa9-742f5f8ac685",
   "metadata": {},
   "outputs": [
    {
     "name": "stdout",
     "output_type": "stream",
     "text": [
      "[\n",
      "    {\n",
      "        \"name\": \"svc-user-ds-u1-token-app\",\n",
      "        \"serviceAccountIdpId\": \"99d06216-d4bd-444f-9b03-1ed57c28e8ab\",\n",
      "        \"isValid\": true,\n",
      "        \"createdAt\": \"2025-09-04T19:28:34.012Z\",\n",
      "        \"expiresAt\": \"2026-01-02T19:28:33.999Z\"\n",
      "    }\n",
      "]\n",
      "[\n",
      "    {\n",
      "        \"name\": \"svc-admin-u2-token-app\",\n",
      "        \"serviceAccountIdpId\": \"2679d9fa-2efc-4787-a9a5-8800a885de13\",\n",
      "        \"isValid\": true,\n",
      "        \"createdAt\": \"2025-09-04T19:28:34.403Z\",\n",
      "        \"expiresAt\": \"2026-01-02T19:28:34.391Z\"\n",
      "    }\n",
      "]\n",
      "[\n",
      "    {\n",
      "        \"name\": \"svc-user-ds-u3-token-app\",\n",
      "        \"serviceAccountIdpId\": \"d09a9497-0a07-4bb8-8d30-4477c0e6c4e5\",\n",
      "        \"isValid\": true,\n",
      "        \"createdAt\": \"2025-09-04T20:00:02.251Z\",\n",
      "        \"expiresAt\": \"2026-01-02T20:00:02.241Z\"\n",
      "    }\n",
      "]\n"
     ]
    }
   ],
   "source": [
    "for user, idpid in idp_by_user.items():\n",
    "    list_all_tokens(idpid)"
   ]
  },
  {
   "cell_type": "code",
   "execution_count": 12,
   "id": "deae52fd-1621-43b3-9e44-6304ece5691f",
   "metadata": {},
   "outputs": [
    {
     "name": "stdout",
     "output_type": "stream",
     "text": [
      "Invalidating token svc-user-ds-u1-token-app?\n",
      "200\n",
      "Invalidating token svc-admin-u2-token-app?\n",
      "200\n",
      "Invalidating token svc-user-ds-u3-token-app?\n",
      "200\n",
      "Deleting token svc-user-ds-u1-token-app?\n",
      "200\n",
      "Deleting token svc-admin-u2-token-app?\n",
      "200\n",
      "Deleting token svc-user-ds-u3-token-app?\n",
      "200\n"
     ]
    }
   ],
   "source": [
    "## Invalidate and delete tokens examples\n",
    "for user, idpid in idp_by_user.items():    \n",
    "    token_name = f\"{user}-token-app\"\n",
    "    # Invalidated tokens cannot be used or be revalidated\n",
    "    invalidate_token(token_name)\n",
    "\n",
    "for user, idpid in idp_by_user.items():    \n",
    "    token_name = f\"{user}-token-app\"\n",
    "    # You have to delete a token to recreate it\n",
    "    delete_token(token_name)"
   ]
  },
  {
   "cell_type": "code",
   "execution_count": 14,
   "id": "884278e9-e3a1-4cfe-b483-05e80e353049",
   "metadata": {},
   "outputs": [
    {
     "name": "stdout",
     "output_type": "stream",
     "text": [
      "201\n",
      "201\n",
      "201\n"
     ]
    }
   ],
   "source": [
    "#Now recreate them\n",
    "## Create tokens for SA. Will return status code 200 if succeeded or 500 if it already exists\n",
    "results = []\n",
    "for user, idpid in idp_by_user.items():    \n",
    "    token_name = f\"{user}-token-app\"    \n",
    "    j = create_token(idpid,token_name)\n",
    "    results.append(j)\n",
    "\n",
    "with open(\"/tmp/tokens.json\", \"w\") as file:\n",
    "    json.dump(results, file, indent=2)"
   ]
  },
  {
   "cell_type": "code",
   "execution_count": null,
   "id": "bfeda917-114a-4ce7-ab5d-8f5d63884413",
   "metadata": {},
   "outputs": [],
   "source": [
    "\n",
    "def add_sa_as_project_collaborator(project_id,collab_id,project_role):\n",
    "    project_endpoint= f'{api_proxy}/v4/projects/{project_id}/collaborators'\n",
    "    data = {\"collaboratorId\":collab_id,\n",
    "            \"projectRole\":project_role}\n",
    "    resp = requests.post(url=project_endpoint,json=data,headers={'Content-Type':'application/json'})\n",
    "    print(resp.status_code)\n",
    "    print(resp.json())\n",
    "    "
   ]
  },
  {
   "cell_type": "code",
   "execution_count": null,
   "id": "1c2c218d-2836-4844-ac33-c814d5440eca",
   "metadata": {},
   "outputs": [],
   "source": [
    "## As an admin add the SA to the project as a collaborator. This is needed to allow them to run jobs\n",
    "project_id = os.environ['DOMINO_PROJECT_ID']\n",
    "id_by_user = get_id_by_sa()\n",
    "for u,id in id_by_user.items():\n",
    "    add_sa_as_project_collaborator(project_id,id,\"Contributor\")\n"
   ]
  },
  {
   "cell_type": "code",
   "execution_count": null,
   "id": "d7a84353-7fbf-4cf9-8980-c91230f12aa5",
   "metadata": {},
   "outputs": [],
   "source": [
    "## Now we need to add a git credential to a service account"
   ]
  },
  {
   "cell_type": "code",
   "execution_count": null,
   "id": "2fbbf3ec-84c6-4dd6-b0ba-4f681d121271",
   "metadata": {},
   "outputs": [],
   "source": [
    "def delete_git_credentials_for_sa(id,credential_id):\n",
    "    api_proxy = os.environ['DOMINO_API_PROXY']\n",
    "    headers = {'Content-Type':'application/json'}\n",
    "    #api_host = os.environ['DOMINO_API_HOST']\n",
    "    #headers = {'Content-Type':'application/json', 'Authorization': f\"Bearer {svc_token}\"}\n",
    "    url = f\"{api_proxy}/v4/accounts/{id}/gitcredentials/{credential_id}\"    \n",
    "    resp = requests.delete(url,headers=headers)   \n",
    "    print(resp.status_code)\n",
    "    return resp.json()\n",
    "\n",
    "def add_git_credentials_to_sa(id,git_token_name,git_token):\n",
    "    #api_host = os.environ['DOMINO_API_HOST']\n",
    "    #headers = {'Content-Type':'application/json', 'Authorization': f\"Bearer {svc_token}\"}\n",
    "    api_proxy = os.environ['DOMINO_API_PROXY']\n",
    "    headers = {'Content-Type':'application/json'}\n",
    "\n",
    "    url = f\"{api_proxy}/v4/accounts/{id}/gitcredentials\"\n",
    "    p = {\"name\":git_token_name,\"gitServiceProvider\":\"github\",\"accessType\":\"token\", \"token\":git_token,\"type\":\"TokenGitCredentialDto\"}\n",
    "    resp = requests.post(url,json=p,headers=headers)   \n",
    "    print(resp.status_code)\n",
    "    print( resp.json())\n",
    "    return resp.json()\n",
    "\n",
    "def get_git_credentials(id):  \n",
    "    api_proxy = os.environ['DOMINO_API_PROXY']\n",
    "    headers = {'Content-Type':'application/json'}\n",
    "    \n",
    "#    api_host = os.environ['DOMINO_API_HOST']\n",
    "#    headers = {'Content-Type':'application/json', 'Authorization': f\"Bearer {svc_token}\"}\n",
    "\n",
    "    url = f\"{api_proxy}/v4/accounts/{id}/gitcredentials\"    \n",
    "    resp = requests.get(url,headers=headers)   \n",
    "    print(resp.status_code)\n",
    "    print(resp.text)\n",
    "    return resp.json()"
   ]
  },
  {
   "cell_type": "code",
   "execution_count": null,
   "id": "93f8f958-09e8-4cc1-8262-a20851ad2245",
   "metadata": {},
   "outputs": [],
   "source": [
    "def get_project_repo_id(project_id,svc_token):\n",
    "    api_host = os.environ['DOMINO_API_HOST']\n",
    "    headers = {'Content-Type':'application/json', 'Authorization': f\"Bearer {svc_token}\"}\n",
    "    \n",
    "    url = f\"{api_proxy}/v4/projects/{project_id}\"    \n",
    "    obj = requests.get(url,headers=headers).json()\n",
    "    print(obj)\n",
    "    git_repository_id = obj['mainRepository']['id']\n",
    "    return git_repository_id\n",
    "\n",
    "##Run this using the service account token. This is for illustration only\n",
    "def add_git_cred_for_project_for_sa(project_id,repo_id,cred_id,svc_token):\n",
    "    api_host = os.environ['DOMINO_API_HOST']\n",
    "    headers = {'Content-Type':'application/json', 'Authorization': f\"Bearer {svc_token}\"}\n",
    "\n",
    "    url = f\"{api_host}/v4/projects/{project_id}/repository/{repo_id}/credentialMapping\"\n",
    "    out = requests.put(url,json={\"credentialId\": cred_id},headers=headers)\n",
    "    print(out.status_code)\n",
    "    print(out.text)\n",
    "\n",
    "def get_git_cred_for_project_for_sa(project_id,repo_id,svc_token):\n",
    "    api_host = os.environ['DOMINO_API_HOST']\n",
    "    headers = {'Content-Type':'application/json', 'Authorization': f\"Bearer {svc_token}\"}\n",
    "    url = f\"{api_proxy}/v4/projects/{project_id}/repository/{repo_id}/credentialMapping\"\n",
    "    out = requests.get(url,headers=headers)\n",
    "    print(out.status_code)\n",
    "    print(out.text)\n",
    "\n",
    "def delete_git_cred_for_project_for_sa(project_id,repo_id,svc_token):\n",
    "    api_host = os.environ['DOMINO_API_HOST']\n",
    "    headers = {'Content-Type':'application/json', 'Authorization': f\"Bearer {svc_token}\"}\n",
    "\n",
    "    url = f\"{api_proxy}/v4/projects/{project_id}/repository/{repo_id}/credentialMapping\"\n",
    "    out = requests.delete(url,headers=headers)\n",
    "    print(out.status_code)\n",
    "    print(out.text)\n"
   ]
  },
  {
   "cell_type": "code",
   "execution_count": null,
   "id": "d33ca38f-1291-4dbe-80b5-7cffa202bee6",
   "metadata": {},
   "outputs": [],
   "source": [
    "project_id = os.environ['DOMINO_PROJECT_ID']\n",
    "id_by_user = get_id_by_sa()\n",
    "svc_token = os.environ['SVC_TOKEN']\n",
    "token_name = \"my-token\"\n",
    "u = os.environ['SVC_USER']\n",
    "id = os.environ['SVC_MONGO_ID']\n",
    "\n",
    "print(f\"{u} - {id}\")\n",
    "\n",
    "## Ideally I want to run this as svc account user but i can only run it as admin\n",
    "creds = get_git_credentials(id)\n",
    "print(creds)\n",
    "\n",
    "\n",
    "for c in creds:    \n",
    "    credential_id = c['id']\n",
    "    delete_git_credentials_for_sa(id,credential_id)\n",
    "print(add_git_credentials_to_sa(id,token_name,os.environ['SVC_GITHUB_TOKEN']))\n",
    "creds = get_git_credentials(id)\n",
    "print(creds)"
   ]
  },
  {
   "cell_type": "code",
   "execution_count": null,
   "id": "0ec53fd8-9cf7-4adc-b73c-2c8001f57d89",
   "metadata": {},
   "outputs": [],
   "source": [
    "\n",
    "project_id = os.environ['DOMINO_PROJECT_ID']\n",
    "id_by_user = get_id_by_sa()\n",
    "repo_id = get_project_repo_id(project_id,svc_token)\n",
    "print(f\"Repo id {repo_id}\")"
   ]
  },
  {
   "cell_type": "code",
   "execution_count": null,
   "id": "9a457fff-29bd-4922-8cea-6a1b930f08f4",
   "metadata": {},
   "outputs": [],
   "source": [
    "##This should be run using each service account tokens \n",
    "#for u,id in id_by_user.items():\n",
    "u = \"svc-user-ds-u3\"  \n",
    "id = \"68b9af2aef0f2d1f1e95fdc4\" #os.environ['SVC_MONGO_ID']\n",
    "\n",
    "creds = get_git_credentials(id)\n",
    "print(creds)\n",
    "credential_id = creds[0]['id']\n",
    "print(\"Get Git Cred mapping\")\n",
    "print(get_git_cred_for_project_for_sa(project_id,repo_id,svc_token))\n",
    "\n",
    "print(\"Delete Git Cred mapping\")\n",
    "delete_git_cred_for_project_for_sa(project_id,repo_id,svc_token)\n",
    "\n",
    "print(\"Add Git Cred mapping\")\n",
    "add_git_cred_for_project_for_sa(project_id,repo_id,credential_id,svc_token)"
   ]
  },
  {
   "cell_type": "code",
   "execution_count": null,
   "id": "ca156d0f-fcff-473d-824b-23b8fae7add3",
   "metadata": {},
   "outputs": [],
   "source": [
    "## And now you can use the service account token to run jobs for a git backed project"
   ]
  },
  {
   "cell_type": "code",
   "execution_count": null,
   "id": "9d82f1d0-6ac5-44ef-98e1-76db5ccc5665",
   "metadata": {},
   "outputs": [],
   "source": [
    "import base64\n",
    "import json\n",
    "\n",
    "def decode_jwt(token: str):\n",
    "    header_b64, payload_b64, signature_b64 = token.split('.')\n",
    "\n",
    "    # Base64URL decoding requires padding correction\n",
    "    def b64url_decode(b64_str):\n",
    "        padding = '=' * (-len(b64_str) % 4)\n",
    "        return base64.urlsafe_b64decode(b64_str + padding)\n",
    "\n",
    "    header = json.loads(b64url_decode(header_b64))\n",
    "    payload = json.loads(b64url_decode(payload_b64))\n",
    "    \n",
    "    return {\n",
    "        \"header\": header,\n",
    "        \"payload\": payload,\n",
    "        \"signature\": signature_b64  # raw, usually verified separately\n",
    "    }\n",
    "\n",
    "# Example usage\n",
    "decoded = decode_jwt(svc_token)\n",
    "print(json.dumps(decoded, indent=2))"
   ]
  },
  {
   "cell_type": "code",
   "execution_count": 3,
   "id": "e3709329-b7c4-418d-9096-f4b2dad07ee6",
   "metadata": {},
   "outputs": [
    {
     "ename": "NameError",
     "evalue": "name 'svc_token' is not defined",
     "output_type": "error",
     "traceback": [
      "\u001b[0;31m---------------------------------------------------------------------------\u001b[0m",
      "\u001b[0;31mNameError\u001b[0m                                 Traceback (most recent call last)",
      "Cell \u001b[0;32mIn[3], line 3\u001b[0m\n\u001b[1;32m      1\u001b[0m \u001b[38;5;28;01mfrom\u001b[39;00m \u001b[38;5;21;01mdomino\u001b[39;00m \u001b[38;5;28;01mimport\u001b[39;00m Domino\n\u001b[1;32m      2\u001b[0m \u001b[38;5;28;01mfrom\u001b[39;00m \u001b[38;5;21;01mutils\u001b[39;00m \u001b[38;5;28;01mimport\u001b[39;00m domino_utils\n\u001b[0;32m----> 3\u001b[0m domino \u001b[38;5;241m=\u001b[39m Domino(\u001b[38;5;124m\"\u001b[39m\u001b[38;5;124mwadkars/ddl-end-to-end-demo\u001b[39m\u001b[38;5;124m\"\u001b[39m,auth_token\u001b[38;5;241m=\u001b[39m\u001b[43msvc_token\u001b[49m)\n\u001b[1;32m      4\u001b[0m compute_env_id \u001b[38;5;241m=\u001b[39m domino_utils\u001b[38;5;241m.\u001b[39mget_environment_id(\u001b[38;5;124m'\u001b[39m\u001b[38;5;124mDomino Standard Environment Py3.10 R4.4\u001b[39m\u001b[38;5;124m'\u001b[39m)[\u001b[38;5;124m'\u001b[39m\u001b[38;5;124mid\u001b[39m\u001b[38;5;124m'\u001b[39m]\n\u001b[1;32m      5\u001b[0m title \u001b[38;5;241m=\u001b[39m \u001b[38;5;124mf\u001b[39m\u001b[38;5;124m\"\u001b[39m\u001b[38;5;124mTest Job for SVC Account\u001b[39m\u001b[38;5;124m\"\u001b[39m\n",
      "\u001b[0;31mNameError\u001b[0m: name 'svc_token' is not defined"
     ]
    }
   ],
   "source": [
    "from domino import Domino\n",
    "from utils import domino_utils\n",
    "\n",
    "svc_token=os.environ['SYS_ACCOUNT_TOKEN')\n",
    "domino = Domino(\"wadkars/ddl-end-to-end-demo\",auth_token=svc_token)\n",
    "compute_env_id = domino_utils.get_environment_id('Domino Standard Environment Py3.10 R4.4')['id']\n",
    "title = f\"Test Job for SVC Account\"\n",
    "j = domino.job_start(title=title,command=\"/tmp/ls\",\n",
    "                 hardware_tier_name=\"Small\",environment_id=compute_env_id)\n",
    "print(j)"
   ]
  },
  {
   "cell_type": "code",
   "execution_count": null,
   "id": "44ac8e45-aaf1-4be5-9be8-9671cb5b33e9",
   "metadata": {},
   "outputs": [],
   "source": []
  }
 ],
 "metadata": {
  "kernelspec": {
   "display_name": "Python 3 (ipykernel)",
   "language": "python",
   "name": "python3"
  },
  "language_info": {
   "codemirror_mode": {
    "name": "ipython",
    "version": 3
   },
   "file_extension": ".py",
   "mimetype": "text/x-python",
   "name": "python",
   "nbconvert_exporter": "python",
   "pygments_lexer": "ipython3",
   "version": "3.10.14"
  }
 },
 "nbformat": 4,
 "nbformat_minor": 5
}
