{
 "cells": [
  {
   "cell_type": "code",
   "execution_count": 28,
   "id": "7de67838-edce-4536-98f1-16c8bb4a1992",
   "metadata": {},
   "outputs": [],
   "source": [
    "import os\n",
    "import requests\n",
    "import json\n",
    "##Create service accounts and tokens\n",
    "#nucleus_uri = os.environ['DOMINO_API_HOST']\n",
    "api_proxy = os.environ['DOMINO_API_PROXY']\n",
    "svc_accounts_endpoint= f'{api_proxy}/v4/serviceAccounts'\n"
   ]
  },
  {
   "cell_type": "markdown",
   "id": "8f2114ec-4eed-4d4a-8cb9-d33b05b7547f",
   "metadata": {},
   "source": [
    "## Why Service Account?\n",
    "\n",
    "Service Accounts are industry standard ways of creating identities which only interact with the platform programmatically. They are identities used to execute automation workflows.\n"
   ]
  },
  {
   "cell_type": "markdown",
   "id": "68304f76-9d7b-4aa0-9e32-c6002d79c0cc",
   "metadata": {},
   "source": [
    "## What functions does this notebook expose?\n",
    "\n",
    "1. List all service accounts - `get_all_service_accounts`\n",
    "2. Create a new service account - `create_sa(sa_name)`\n",
    "3. Get the Keycloak Id associated with each SA - `get_idp_id_by_sa()`\n",
    "4. Get the Domino (Mongo) Id associated with each SA - `get_id_by_sa()`\n",
    "5. Create a named token for a service account. A service account can have many named tokens -`create_token(idpid,token_name)`\n",
    "6. Invalidate token for a service account. A token that is invalidated cannot be reactivated - `invalidate_token(token_name):`\n",
    "7. Delete token for a service account. A token with the same name can be recreated after its deleted - `delete_token(token_name)`\n",
    "8. Add a service account as a project collaborator (collab_id==sa_mongo_id) - `add_sa_as_project_collaborator(project_id,collab_id,project_role)`\n",
    "9. Get git credential id's associated with all users (id==mongo_id)- `get_git_credentials(id)`\n",
    "10. Get repo_id associated with a git backed project - `get_project_repo_id(project_id)`\n",
    "11. Get git credentials associated with a give project - `get_git_credentials`\n",
    "12. Add a git credential for a collaborating project for a given sa `add_git_cred_for_project_for_sa`\n",
    "13. Delete git credentials for a collaborating project for a given sa `delete_git_credentials_for_sa`\n",
    "\n",
    "(11,12,13) in the real world would be run by a SA token after the SA is added as a collaborator for a give project\n",
    "\n",
    "\n"
   ]
  },
  {
   "cell_type": "code",
   "execution_count": 29,
   "id": "cbc3ceb0-b430-41a1-99cf-5eee2d3ce001",
   "metadata": {},
   "outputs": [],
   "source": [
    "## First step is fetch all service account\n",
    "def  get_all_service_accounts():\n",
    "    print(svc_accounts_endpoint)\n",
    "    resp = requests.get(svc_accounts_endpoint)\n",
    "    print(resp)\n",
    "    users=[]\n",
    "    if resp.status_code==200:\n",
    "        for u in resp.json():\n",
    "            users.append(u['username'])\n",
    "    return users"
   ]
  },
  {
   "cell_type": "code",
   "execution_count": 30,
   "id": "4ba9acc6-57ea-4a6e-b25b-041d42cb43ae",
   "metadata": {},
   "outputs": [
    {
     "name": "stdout",
     "output_type": "stream",
     "text": [
      "http://localhost:8899/v4/serviceAccounts\n",
      "<Response [200]>\n",
      "['svc-user-ds-u1', 'svc-admin-u2']\n"
     ]
    }
   ],
   "source": [
    "print(get_all_service_accounts())"
   ]
  },
  {
   "cell_type": "code",
   "execution_count": 31,
   "id": "c6ea8f99-01b8-4e8c-9eca-990f144c3381",
   "metadata": {},
   "outputs": [],
   "source": [
    "## Create Service Accounts if they don't exist"
   ]
  },
  {
   "cell_type": "code",
   "execution_count": 32,
   "id": "6ea7ebe1-1d8e-45b5-b02a-1456b6d01819",
   "metadata": {},
   "outputs": [],
   "source": [
    "def create_sa(sa_name:str):\n",
    "    data = {'username':sa_name,'email':f'{sa_name}@xyz.com'}\n",
    "    resp = requests.post(svc_accounts_endpoint,json=data,headers={'Content-Type':'application/json'})\n",
    "    print(f'Response for creating svc account {sa_name} is {resp.status_code}')\n",
    "    print(resp.json())\n",
    "    "
   ]
  },
  {
   "cell_type": "code",
   "execution_count": 33,
   "id": "92e94a22-5565-4282-933b-3208016d8451",
   "metadata": {},
   "outputs": [
    {
     "name": "stdout",
     "output_type": "stream",
     "text": [
      "Response for creating svc account svc-user-ds-u1 is 500\n",
      "{'message': 'A user with the username svc-user-ds-u1 already exists.', 'success': False}\n",
      "Response for creating svc account svc-admin-u2 is 500\n",
      "{'message': 'A user with the username svc-admin-u2 already exists.', 'success': False}\n"
     ]
    }
   ],
   "source": [
    "svc_accounts=['svc-user-ds-u1','svc-admin-u2']\n",
    "for sa_name in svc_accounts:\n",
    "    ## 200 \n",
    "    create_sa(sa_name)"
   ]
  },
  {
   "cell_type": "code",
   "execution_count": 34,
   "id": "48f68aa8-8d8e-42e0-8819-c0b6965e38ba",
   "metadata": {},
   "outputs": [],
   "source": [
    "#Now get Idp Id of all emails. This only returns active service accounts. If you have deactivated the SA\n",
    "#you can no longer see it. The only place to get that is from Mongo or Keycloak to reactivate\n",
    "#Activation of SA using names is not supported\n",
    "def get_idp_id_by_sa():\n",
    "    resp = requests.get(svc_accounts_endpoint)\n",
    "    print(resp.json())\n",
    "    idp_by_user={}\n",
    "    if resp.status_code==200:\n",
    "        for u in resp.json():\n",
    "            idp_by_user[u['username']]=u['idpId']\n",
    "    return idp_by_user\n",
    "def get_id_by_sa():\n",
    "    resp = requests.get(svc_accounts_endpoint)\n",
    "    print(resp.json())\n",
    "    idp_by_user={}\n",
    "    if resp.status_code==200:\n",
    "        for u in resp.json():\n",
    "            idp_by_user[u['username']]=u['id']\n",
    "    return idp_by_user"
   ]
  },
  {
   "cell_type": "code",
   "execution_count": 35,
   "id": "e980a0a2-c950-4f34-94bd-506a68b64208",
   "metadata": {},
   "outputs": [
    {
     "name": "stdout",
     "output_type": "stream",
     "text": [
      "[{'username': 'svc-user-ds-u1', 'email': 'svc-user-ds-u1@xyz.com', 'id': '68b9af2aef0f2d1f1e95fdc4', 'idpId': '99d06216-d4bd-444f-9b03-1ed57c28e8ab'}, {'username': 'svc-admin-u2', 'email': 'svc-admin-u2@xyz.com', 'id': '68b9af2b63f3790aeb9ba4b8', 'idpId': '2679d9fa-2efc-4787-a9a5-8800a885de13'}]\n"
     ]
    }
   ],
   "source": [
    "idp_by_user = get_idp_id_by_sa()"
   ]
  },
  {
   "cell_type": "code",
   "execution_count": 36,
   "id": "3dd350aa-4378-4289-ae94-878750a2c8b1",
   "metadata": {},
   "outputs": [],
   "source": [
    "# You cannot overwrite an existing or even an invalidated token. You have to delete it first\n",
    "def create_token(idpid,token_name):\n",
    "    token_endpoint= f'{svc_accounts_endpoint}/{idpid}/tokens'    \n",
    "    resp = requests.post(f\"{token_endpoint}\",json={\"name\":token_name},\n",
    "                         headers={'Content-Type':'application/json'})\n",
    "    print(resp.status_code)\n",
    "    return resp.json()"
   ]
  },
  {
   "cell_type": "code",
   "execution_count": 45,
   "id": "50117bcf-4f51-4410-be6a-34b231492246",
   "metadata": {},
   "outputs": [
    {
     "name": "stdout",
     "output_type": "stream",
     "text": [
      "201\n",
      "201\n"
     ]
    }
   ],
   "source": [
    "results = []\n",
    "for user, idpid in idp_by_user.items():    \n",
    "    token_name = f\"{user}-token-app\"    \n",
    "    j = create_token(idpid,token_name)\n",
    "    results.append(j)\n",
    "\n",
    "with open(\"/tmp/output.json\", \"w\") as file:\n",
    "    json.dump(results, file, indent=2)"
   ]
  },
  {
   "cell_type": "code",
   "execution_count": 38,
   "id": "0bff7fb5-a0a3-445a-81cf-983783d86ef2",
   "metadata": {},
   "outputs": [],
   "source": [
    "def deactivate_sa(idpid):\n",
    "    token_endpoint= f'{svc_accounts_endpoint}/{idpid}/deactivate'        \n",
    "    resp = requests.post(token_endpoint,headers={'Content-Type':'application/json'})\n",
    "    print(f\"Status code {resp.status_code} - Deactivating user {user}\")\n",
    "def activate_sa(idpid):\n",
    "    token_endpoint= f'{svc_accounts_endpoint}/{idpid}/activate'        \n",
    "    resp = requests.post(token_endpoint,headers={'Content-Type':'application/json'})\n",
    "    print(f\"Status code {resp.status_code} - Activating user {user}\")"
   ]
  },
  {
   "cell_type": "code",
   "execution_count": 39,
   "id": "25012251-399f-48a1-8e0f-99e3a53bcae8",
   "metadata": {},
   "outputs": [
    {
     "name": "stdout",
     "output_type": "stream",
     "text": [
      "Status code 200 - Deactivating user svc-user-ds-u1\n",
      "Status code 200 - Deactivating user svc-admin-u2\n",
      "Status code 200 - Activating user svc-user-ds-u1\n",
      "Status code 200 - Activating user svc-admin-u2\n"
     ]
    }
   ],
   "source": [
    "for user, idpid in idp_by_user.items():\n",
    "    deactivate_sa(idpid)\n",
    "for user, idpid in idp_by_user.items():\n",
    "    activate_sa(idpid)"
   ]
  },
  {
   "cell_type": "code",
   "execution_count": 40,
   "id": "747779e5-9219-4032-896e-c763ffa3d7fc",
   "metadata": {},
   "outputs": [],
   "source": [
    "#List all tokens\n",
    "def list_all_tokens(idpid):\n",
    "    token_endpoint= f'{svc_accounts_endpoint}/{idpid}/tokens'    \n",
    "    \n",
    "    resp = requests.get(token_endpoint,headers={'Content-Type':'application/json'})\n",
    "    \n",
    "    if resp.status_code==200:\n",
    "       out = resp.json()           \n",
    "       pretty_json = json.dumps(out, indent=4)\n",
    "       print(pretty_json)\n",
    "\n"
   ]
  },
  {
   "cell_type": "code",
   "execution_count": 41,
   "id": "97448c8d-5475-4002-afa9-742f5f8ac685",
   "metadata": {},
   "outputs": [
    {
     "name": "stdout",
     "output_type": "stream",
     "text": [
      "[\n",
      "    {\n",
      "        \"name\": \"svc-user-ds-u1-token-app\",\n",
      "        \"serviceAccountIdpId\": \"99d06216-d4bd-444f-9b03-1ed57c28e8ab\",\n",
      "        \"isValid\": true,\n",
      "        \"createdAt\": \"2025-09-04T19:00:10.018Z\",\n",
      "        \"expiresAt\": \"2026-01-02T19:00:10.005Z\"\n",
      "    }\n",
      "]\n",
      "[\n",
      "    {\n",
      "        \"name\": \"svc-admin-u2-token-app\",\n",
      "        \"serviceAccountIdpId\": \"2679d9fa-2efc-4787-a9a5-8800a885de13\",\n",
      "        \"isValid\": true,\n",
      "        \"createdAt\": \"2025-09-04T19:00:10.426Z\",\n",
      "        \"expiresAt\": \"2026-01-02T19:00:10.413Z\"\n",
      "    }\n",
      "]\n"
     ]
    }
   ],
   "source": [
    "for user, idpid in idp_by_user.items():\n",
    "    list_all_tokens(idpid)"
   ]
  },
  {
   "cell_type": "code",
   "execution_count": 42,
   "id": "82a2d0a9-6594-4981-b983-4af3e895fd1e",
   "metadata": {},
   "outputs": [],
   "source": [
    "def invalidate_token(token_name):\n",
    "    print(f\"Invalidating token {token_name}?\")\n",
    "    token_endpoint= f'{svc_accounts_endpoint}/{idpid}/tokens/{token_name}'    \n",
    "    resp = requests.post(f\"{token_endpoint}/invalidate\",headers={'Content-Type':'application/json'})\n",
    "    print(resp.status_code)\n",
    "def delete_token(token_name):\n",
    "    print(f\"Deleting token {token_name}?\")\n",
    "    token_endpoint= f'{svc_accounts_endpoint}/{idpid}/tokens/{token_name}'    \n",
    "    resp = requests.delete(f\"{token_endpoint}\",headers={'Content-Type':'application/json'})\n",
    "    print(resp.status_code)\n",
    "    "
   ]
  },
  {
   "cell_type": "code",
   "execution_count": 44,
   "id": "deae52fd-1621-43b3-9e44-6304ece5691f",
   "metadata": {},
   "outputs": [
    {
     "name": "stdout",
     "output_type": "stream",
     "text": [
      "Invalidating token svc-user-ds-u1-token-app?\n",
      "200\n",
      "Invalidating token svc-admin-u2-token-app?\n",
      "200\n",
      "Deleting token svc-user-ds-u1-token-app?\n",
      "200\n",
      "Deleting token svc-admin-u2-token-app?\n",
      "200\n"
     ]
    }
   ],
   "source": [
    "for user, idpid in idp_by_user.items():    \n",
    "    token_name = f\"{user}-token-app\"\n",
    "    # Invalidated tokens cannot be used or be revalidated\n",
    "    invalidate_token(token_name)\n",
    "\n",
    "for user, idpid in idp_by_user.items():    \n",
    "    token_name = f\"{user}-token-app\"\n",
    "    # You have to delete a token to recreate it\n",
    "    delete_token(token_name)"
   ]
  },
  {
   "cell_type": "code",
   "execution_count": null,
   "id": "bfeda917-114a-4ce7-ab5d-8f5d63884413",
   "metadata": {},
   "outputs": [],
   "source": [
    "\n",
    "def add_sa_as_project_collaborator(project_id,collab_id,project_role):\n",
    "    project_endpoint= f'{api_proxy}/v4/projects/{project_id}/collaborators'\n",
    "    data = {\"collaboratorId\":collab_id,\n",
    "            \"projectRole\":project_role}\n",
    "    resp = requests.post(url=project_endpoint,json=data,headers={'Content-Type':'application/json'})\n",
    "    print(resp.status_code)\n",
    "    print(resp.json())\n",
    "    "
   ]
  },
  {
   "cell_type": "code",
   "execution_count": null,
   "id": "1c2c218d-2836-4844-ac33-c814d5440eca",
   "metadata": {},
   "outputs": [],
   "source": [
    "project_id = os.environ['DOMINO_PROJECT_ID']\n",
    "id_by_user = get_id_by_sa()\n",
    "for u,id in id_by_user.items():\n",
    "    add_sa_as_project_collaborator(project_id,id,\"Contributor\")\n"
   ]
  },
  {
   "cell_type": "code",
   "execution_count": null,
   "id": "d7a84353-7fbf-4cf9-8980-c91230f12aa5",
   "metadata": {},
   "outputs": [],
   "source": [
    "## Now we need to add a git credential to a service account"
   ]
  },
  {
   "cell_type": "code",
   "execution_count": 60,
   "id": "2fbbf3ec-84c6-4dd6-b0ba-4f681d121271",
   "metadata": {},
   "outputs": [],
   "source": [
    "def delete_git_credentials_for_sa(id,credential_id):\n",
    "    \n",
    "    headers = {'Content-Type':'application/json'}\n",
    "    url = f\"{api_proxy}/v4/accounts/{id}/gitcredentials/{credential_id}\"    \n",
    "    resp = requests.delete(url,headers=headers)   \n",
    "    print(resp.status_code)\n",
    "    return resp.json()"
   ]
  },
  {
   "cell_type": "code",
   "execution_count": 61,
   "id": "93f8f958-09e8-4cc1-8262-a20851ad2245",
   "metadata": {},
   "outputs": [],
   "source": [
    "def add_git_credentials_to_sa(id,git_token_name,git_token):\n",
    "    headers = {'Content-Type':'application/json'}    \n",
    "    url = f\"{api_proxy}/v4/accounts/{id}/gitcredentials\"\n",
    "    p = {\"name\":git_token_name,\"gitServiceProvider\":\"github\",\"accessType\":\"token\", \"token\":git_token,\"type\":\"TokenGitCredentialDto\"}\n",
    "    resp = requests.post(url,json=p,headers=headers)   \n",
    "    print(resp.status_code)\n",
    "    return resp.json()\n"
   ]
  },
  {
   "cell_type": "code",
   "execution_count": 62,
   "id": "29e2247d-6180-455c-94ed-fc214590049e",
   "metadata": {},
   "outputs": [],
   "source": [
    "def get_git_credentials(id):    \n",
    "    headers = {'Content-Type':'application/json'}    \n",
    "    url = f\"{api_proxy}/v4/accounts/{id}/gitcredentials\"    \n",
    "    resp = requests.get(url,headers=headers)   \n",
    "    print(resp.status_code)\n",
    "    print(resp.text)\n",
    "    return resp.json()\n"
   ]
  },
  {
   "cell_type": "code",
   "execution_count": 63,
   "id": "d33ca38f-1291-4dbe-80b5-7cffa202bee6",
   "metadata": {},
   "outputs": [
    {
     "name": "stdout",
     "output_type": "stream",
     "text": [
      "[{'username': 'svc-user-ds-u1', 'email': 'svc-user-ds-u1@xyz.com', 'id': '68b9af2aef0f2d1f1e95fdc4', 'idpId': '99d06216-d4bd-444f-9b03-1ed57c28e8ab'}, {'username': 'svc-admin-u2', 'email': 'svc-admin-u2@xyz.com', 'id': '68b9af2b63f3790aeb9ba4b8', 'idpId': '2679d9fa-2efc-4787-a9a5-8800a885de13'}]\n",
      "svc-user-ds-u1 - 68b9af2aef0f2d1f1e95fdc4\n",
      "200\n",
      "[{\"id\":\"68b9c8b7ef0f2d1f1e95fdcb\",\"name\":\"fake-name\",\"gitServiceProvider\":\"github\",\"domain\":\"github.com\",\"fingerprint\":\"7b:3c:af:44:d3:37:ca:e1:74:54:0c:4d:26:e2:2b:27\",\"protocol\":\"https\"}]\n",
      "200\n",
      "200\n",
      "{'id': '68b9ea4463f3790aeb9ba562', 'name': 'my-token', 'gitServiceProvider': 'github', 'domain': 'github.com', 'fingerprint': 'ba:29:6e:74:6f:9f:fd:b1:e0:f6:18:dd:95:b1:94:fc', 'protocol': 'https'}\n"
     ]
    }
   ],
   "source": [
    "project_id = os.environ['DOMINO_PROJECT_ID']\n",
    "id_by_user = get_id_by_sa()\n",
    "svc_token = \"eyJhbGciOiJSUzI1NiIsInR5cCIgOiAiSldUIiwia2lkIiA6ICI2ekZfWlgzRlJiV0dnT215VHJKd0xmXzFVNUxUeENVT0t4bTNvSDhZNW5ZIn0.eyJleHAiOjE3NjczODIxMTMsImlhdCI6MTc1NzAxNDExMywianRpIjoiYjhkYWM4MzEtZTcwYS00NmZjLTlhNWYtYjUxNzU0M2IwNjkyIiwiaXNzIjoiaHR0cHM6Ly9tYXJjZG83NzM2NC5jcy5kb21pbm8udGVjaC9hdXRoL3JlYWxtcy9Eb21pbm9SZWFsbSIsImF1ZCI6WyJkb21pbm8tcGxhdGZvcm0iLCJhY2NvdW50Il0sInR5cCI6IkJlYXJlciIsImF6cCI6ImRvbWluby1zZXJ2aWNlLWFjY291bnRzIiwic2lkIjoiMzhlMjU2NjYtNGY3Yy00ZmY1LWJiNjAtNmIxYTJlNjJiMGE4IiwicmVhbG1fYWNjZXNzIjp7InJvbGVzIjpbIm9mZmxpbmVfYWNjZXNzIiwidW1hX2F1dGhvcml6YXRpb24iLCJkZWZhdWx0LXJvbGVzLWRvbWlub3JlYWxtIl19LCJyZXNvdXJjZV9hY2Nlc3MiOnsiZG9taW5vLXNlcnZpY2UtYWNjb3VudHMiOnsicm9sZXMiOlsiZG9taW5vLXNlcnZpY2UtYWNjb3VudCJdfSwiYWNjb3VudCI6eyJyb2xlcyI6WyJtYW5hZ2UtYWNjb3VudCIsIm1hbmFnZS1hY2NvdW50LWxpbmtzIiwidmlldy1wcm9maWxlIl19fSwic2NvcGUiOiJvcGVuaWQgZG9taW5vLWp3dC1jbGFpbXMgZW1haWwgb2ZmbGluZV9hY2Nlc3MgcHJvZmlsZSIsImVtYWlsX3ZlcmlmaWVkIjpmYWxzZSwiaWRwX2lkIjoiOTlkMDYyMTYtZDRiZC00NDRmLTliMDMtMWVkNTdjMjhlOGFiIiwibmFtZSI6IlNBIHN2Yy11c2VyLWRzLXUxIiwicHJlZmVycmVkX3VzZXJuYW1lIjoic3ZjLXVzZXItZHMtdTEiLCJnaXZlbl9uYW1lIjoiU0EiLCJmYW1pbHlfbmFtZSI6InN2Yy11c2VyLWRzLXUxIiwiZW1haWwiOiJzdmMtdXNlci1kcy11MUB4eXouY29tIiwidXNlcl9ncm91cHMiOlsiL3JvbGVzL1ByYWN0aXRpb25lciJdfQ.my59LrgU1AOcSTVMwoJt4_Gg7crsT578sVDPI3IrHpAAYec4oQi_b2qbABPcYTz8SJ-SHvFk5Xy45tm-pCJgdwOeiiSY5NLkmqv1VUM7af6ponkRqOl5cIfJLyNdmCc_KeRp46_kcBtRhHwGUUfq8lSc7C4buws9aCQxc9ehwW59h6tHZv2dwuxby79d7WdobvbwicOvHB4it3bxTq_bM7JnRAxLEf09Ktr5hDMW8xBQ3bcgO7Vd2VnBJCtg70Y6QaCQwVb08O3gRrCqovOrF6vbUzNsjBxIXaF2h4ikufquUhs0pc0mPw2UYDCctMdwQut5b9VaOzlhgFGf6yxq-A\"\n",
    "\n",
    "token_name = \"my-token\"\n",
    "u = \"svc-user-ds-u1\"\n",
    "id = \"68b9af2aef0f2d1f1e95fdc4\"\n",
    "\n",
    "print(f\"{u} - {id}\")\n",
    "creds = get_git_credentials(id)\n",
    "\n",
    "for c in creds:    \n",
    "    credential_id = c['id']\n",
    "    delete_git_credentials_for_sa(id,credential_id)\n",
    "    print(add_git_credentials_to_sa(id,token_name,os.environ['SVC_GITHUB_TOKEN']))\n"
   ]
  },
  {
   "cell_type": "code",
   "execution_count": 69,
   "id": "52171037-ea25-48fe-bcb8-bc41e259a273",
   "metadata": {},
   "outputs": [],
   "source": [
    "def get_project_repo_id(project_id,token):\n",
    "    api_host = os.environ['DOMINO_API_HOST']\n",
    "    headers = {'Content-Type':'application/json', 'Authorization': f\"Bearer {svc_token}\"}\n",
    "    \n",
    "    url = f\"{api_proxy}/v4/projects/{project_id}\"    \n",
    "    obj = requests.get(url,headers=headers).json()\n",
    "    print(obj)\n",
    "    git_repository_id = obj['mainRepository']['id']\n",
    "    return git_repository_id\n",
    "\n",
    "##Run this using the service account token. This is for illustration only\n",
    "def add_git_cred_for_project_for_sa(project_id,repo_id,cred_id,svc_token):\n",
    "    api_host = os.environ['DOMINO_API_HOST']\n",
    "    headers = {'Content-Type':'application/json', 'Authorization': f\"Bearer {svc_token}\"}\n",
    "\n",
    "    url = f\"{api_host}/v4/projects/{project_id}/repository/{repo_id}/credentialMapping\"\n",
    "    out = requests.put(url,json={\"credentialId\": cred_id},headers=headers)\n",
    "    print(out.status_code)\n",
    "    print(out.text)\n",
    "\n",
    "def get_git_cred_for_project_for_sa(project_id,repo_id,svc_token):\n",
    "    api_host = os.environ['DOMINO_API_HOST']\n",
    "    headers = {'Content-Type':'application/json', 'Authorization': f\"Bearer {svc_token}\"}\n",
    "    url = f\"{api_proxy}/v4/projects/{project_id}/repository/{repo_id}/credentialMapping\"\n",
    "    out = requests.get(url,headers=headers)\n",
    "    print(out.status_code)\n",
    "    print(out.text)\n",
    "\n",
    "def delete_git_cred_for_project_for_sa(project_id,repo_id,svc_token):\n",
    "    api_host = os.environ['DOMINO_API_HOST']\n",
    "    headers = {'Content-Type':'application/json', 'Authorization': f\"Bearer {svc_token}\"}\n",
    "\n",
    "    url = f\"{api_proxy}/v4/projects/{project_id}/repository/{repo_id}/credentialMapping\"\n",
    "    out = requests.delete(url,headers=headers)\n",
    "    print(out.status_code)\n",
    "    print(out.text)\n",
    "\n"
   ]
  },
  {
   "cell_type": "code",
   "execution_count": 70,
   "id": "0ec53fd8-9cf7-4adc-b73c-2c8001f57d89",
   "metadata": {},
   "outputs": [
    {
     "name": "stdout",
     "output_type": "stream",
     "text": [
      "[{'username': 'svc-user-ds-u1', 'email': 'svc-user-ds-u1@xyz.com', 'id': '68b9af2aef0f2d1f1e95fdc4', 'idpId': '99d06216-d4bd-444f-9b03-1ed57c28e8ab'}, {'username': 'svc-admin-u2', 'email': 'svc-admin-u2@xyz.com', 'id': '68b9af2b63f3790aeb9ba4b8', 'idpId': '2679d9fa-2efc-4787-a9a5-8800a885de13'}]\n",
      "{'message': 'The JWT must contain a subject or an id must be generated via the identifierGenerator', 'success': False}\n"
     ]
    },
    {
     "ename": "KeyError",
     "evalue": "'mainRepository'",
     "output_type": "error",
     "traceback": [
      "\u001b[0;31m---------------------------------------------------------------------------\u001b[0m",
      "\u001b[0;31mKeyError\u001b[0m                                  Traceback (most recent call last)",
      "Cell \u001b[0;32mIn[70], line 3\u001b[0m\n\u001b[1;32m      1\u001b[0m project_id \u001b[38;5;241m=\u001b[39m os\u001b[38;5;241m.\u001b[39menviron[\u001b[38;5;124m'\u001b[39m\u001b[38;5;124mDOMINO_PROJECT_ID\u001b[39m\u001b[38;5;124m'\u001b[39m]\n\u001b[1;32m      2\u001b[0m id_by_user \u001b[38;5;241m=\u001b[39m get_id_by_sa()\n\u001b[0;32m----> 3\u001b[0m repo_id \u001b[38;5;241m=\u001b[39m \u001b[43mget_project_repo_id\u001b[49m\u001b[43m(\u001b[49m\u001b[43mproject_id\u001b[49m\u001b[43m,\u001b[49m\u001b[43msvc_token\u001b[49m\u001b[43m)\u001b[49m\n\u001b[1;32m      4\u001b[0m \u001b[38;5;28mprint\u001b[39m(\u001b[38;5;124mf\u001b[39m\u001b[38;5;124m\"\u001b[39m\u001b[38;5;124mRepo id \u001b[39m\u001b[38;5;132;01m{\u001b[39;00mrepo_id\u001b[38;5;132;01m}\u001b[39;00m\u001b[38;5;124m\"\u001b[39m)\n",
      "Cell \u001b[0;32mIn[69], line 8\u001b[0m, in \u001b[0;36mget_project_repo_id\u001b[0;34m(project_id, token)\u001b[0m\n\u001b[1;32m      6\u001b[0m obj \u001b[38;5;241m=\u001b[39m requests\u001b[38;5;241m.\u001b[39mget(url,headers\u001b[38;5;241m=\u001b[39mheaders)\u001b[38;5;241m.\u001b[39mjson()\n\u001b[1;32m      7\u001b[0m \u001b[38;5;28mprint\u001b[39m(obj)\n\u001b[0;32m----> 8\u001b[0m git_repository_id \u001b[38;5;241m=\u001b[39m \u001b[43mobj\u001b[49m\u001b[43m[\u001b[49m\u001b[38;5;124;43m'\u001b[39;49m\u001b[38;5;124;43mmainRepository\u001b[39;49m\u001b[38;5;124;43m'\u001b[39;49m\u001b[43m]\u001b[49m[\u001b[38;5;124m'\u001b[39m\u001b[38;5;124mid\u001b[39m\u001b[38;5;124m'\u001b[39m]\n\u001b[1;32m      9\u001b[0m \u001b[38;5;28;01mreturn\u001b[39;00m git_repository_id\n",
      "\u001b[0;31mKeyError\u001b[0m: 'mainRepository'"
     ]
    }
   ],
   "source": [
    "\n",
    "project_id = os.environ['DOMINO_PROJECT_ID']\n",
    "id_by_user = get_id_by_sa()\n",
    "repo_id = get_project_repo_id(project_id,svc_token)\n",
    "print(f\"Repo id {repo_id}\")"
   ]
  },
  {
   "cell_type": "code",
   "execution_count": null,
   "id": "9a457fff-29bd-4922-8cea-6a1b930f08f4",
   "metadata": {},
   "outputs": [],
   "source": [
    "##This should be run using each service account tokens \n",
    "for u,id in id_by_user.items():\n",
    "    creds = get_git_credentials(id)\n",
    "    credential_id = creds[0]['id']\n",
    "    print(\"Get Git Cred mapping\")\n",
    "    print(get_git_cred_for_project_for_sa(project_id,repo_id))\n",
    "\n",
    "    print(\"Delete Git Cred mapping\")\n",
    "    delete_git_cred_for_project_for_sa(project_id,repo_id)\n",
    "\n",
    "    print(\"Add Git Cred mapping\")\n",
    "    add_git_cred_for_project_for_sa(project_id,repo_id,credential_id)"
   ]
  },
  {
   "cell_type": "code",
   "execution_count": null,
   "id": "ca156d0f-fcff-473d-824b-23b8fae7add3",
   "metadata": {},
   "outputs": [],
   "source": [
    "## And now you can use the service account token to run jobs for a git backed project"
   ]
  },
  {
   "cell_type": "code",
   "execution_count": 46,
   "id": "9d82f1d0-6ac5-44ef-98e1-76db5ccc5665",
   "metadata": {},
   "outputs": [
    {
     "name": "stdout",
     "output_type": "stream",
     "text": [
      "{\n",
      "  \"header\": {\n",
      "    \"alg\": \"RS256\",\n",
      "    \"typ\": \"JWT\",\n",
      "    \"kid\": \"6zF_ZX3FRbWGgOmyTrJwLf_1U5LTxCUOKxm3oH8Y5nY\"\n",
      "  },\n",
      "  \"payload\": {\n",
      "    \"exp\": 1767382113,\n",
      "    \"iat\": 1757014113,\n",
      "    \"jti\": \"b8dac831-e70a-46fc-9a5f-b517543b0692\",\n",
      "    \"iss\": \"https://marcdo77364.cs.domino.tech/auth/realms/DominoRealm\",\n",
      "    \"aud\": [\n",
      "      \"domino-platform\",\n",
      "      \"account\"\n",
      "    ],\n",
      "    \"typ\": \"Bearer\",\n",
      "    \"azp\": \"domino-service-accounts\",\n",
      "    \"sid\": \"38e25666-4f7c-4ff5-bb60-6b1a2e62b0a8\",\n",
      "    \"realm_access\": {\n",
      "      \"roles\": [\n",
      "        \"offline_access\",\n",
      "        \"uma_authorization\",\n",
      "        \"default-roles-dominorealm\"\n",
      "      ]\n",
      "    },\n",
      "    \"resource_access\": {\n",
      "      \"domino-service-accounts\": {\n",
      "        \"roles\": [\n",
      "          \"domino-service-account\"\n",
      "        ]\n",
      "      },\n",
      "      \"account\": {\n",
      "        \"roles\": [\n",
      "          \"manage-account\",\n",
      "          \"manage-account-links\",\n",
      "          \"view-profile\"\n",
      "        ]\n",
      "      }\n",
      "    },\n",
      "    \"scope\": \"openid domino-jwt-claims email offline_access profile\",\n",
      "    \"email_verified\": false,\n",
      "    \"idp_id\": \"99d06216-d4bd-444f-9b03-1ed57c28e8ab\",\n",
      "    \"name\": \"SA svc-user-ds-u1\",\n",
      "    \"preferred_username\": \"svc-user-ds-u1\",\n",
      "    \"given_name\": \"SA\",\n",
      "    \"family_name\": \"svc-user-ds-u1\",\n",
      "    \"email\": \"svc-user-ds-u1@xyz.com\",\n",
      "    \"user_groups\": [\n",
      "      \"/roles/Practitioner\"\n",
      "    ]\n",
      "  },\n",
      "  \"signature\": \"my59LrgU1AOcSTVMwoJt4_Gg7crsT578sVDPI3IrHpAAYec4oQi_b2qbABPcYTz8SJ-SHvFk5Xy45tm-pCJgdwOeiiSY5NLkmqv1VUM7af6ponkRqOl5cIfJLyNdmCc_KeRp46_kcBtRhHwGUUfq8lSc7C4buws9aCQxc9ehwW59h6tHZv2dwuxby79d7WdobvbwicOvHB4it3bxTq_bM7JnRAxLEf09Ktr5hDMW8xBQ3bcgO7Vd2VnBJCtg70Y6QaCQwVb08O3gRrCqovOrF6vbUzNsjBxIXaF2h4ikufquUhs0pc0mPw2UYDCctMdwQut5b9VaOzlhgFGf6yxq-A\"\n",
      "}\n"
     ]
    }
   ],
   "source": [
    "import base64\n",
    "import json\n",
    "\n",
    "def decode_jwt(token: str):\n",
    "    header_b64, payload_b64, signature_b64 = token.split('.')\n",
    "\n",
    "    # Base64URL decoding requires padding correction\n",
    "    def b64url_decode(b64_str):\n",
    "        padding = '=' * (-len(b64_str) % 4)\n",
    "        return base64.urlsafe_b64decode(b64_str + padding)\n",
    "\n",
    "    header = json.loads(b64url_decode(header_b64))\n",
    "    payload = json.loads(b64url_decode(payload_b64))\n",
    "    \n",
    "    return {\n",
    "        \"header\": header,\n",
    "        \"payload\": payload,\n",
    "        \"signature\": signature_b64  # raw, usually verified separately\n",
    "    }\n",
    "\n",
    "# Example usage\n",
    "decoded = decode_jwt(svc_token)\n",
    "print(json.dumps(decoded, indent=2))"
   ]
  },
  {
   "cell_type": "code",
   "execution_count": null,
   "id": "7ab0acad-3d67-41be-8d43-ad94f209833c",
   "metadata": {},
   "outputs": [],
   "source": []
  }
 ],
 "metadata": {
  "kernelspec": {
   "display_name": "Python 3 (ipykernel)",
   "language": "python",
   "name": "python3"
  },
  "language_info": {
   "codemirror_mode": {
    "name": "ipython",
    "version": 3
   },
   "file_extension": ".py",
   "mimetype": "text/x-python",
   "name": "python",
   "nbconvert_exporter": "python",
   "pygments_lexer": "ipython3",
   "version": "3.10.14"
  }
 },
 "nbformat": 4,
 "nbformat_minor": 5
}
