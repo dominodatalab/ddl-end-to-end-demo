{
 "cells": [
  {
   "cell_type": "code",
   "execution_count": null,
   "id": "7de67838-edce-4536-98f1-16c8bb4a1992",
   "metadata": {},
   "outputs": [],
   "source": [
    "import os\n",
    "import requests\n",
    "import json\n",
    "##Create service accounts and tokens\n",
    "#nucleus_uri = os.environ['DOMINO_API_HOST']\n",
    "api_proxy = os.environ['DOMINO_API_PROXY']\n",
    "svc_accounts_endpoint= f'{api_proxy}/v4/serviceAccounts'\n"
   ]
  },
  {
   "cell_type": "markdown",
   "id": "8f2114ec-4eed-4d4a-8cb9-d33b05b7547f",
   "metadata": {},
   "source": [
    "## Why Service Account?\n",
    "\n",
    "Service Accounts are industry standard ways of creating identities which only interact with the platform programmatically. They are identities used to execute automation workflows.\n"
   ]
  },
  {
   "cell_type": "markdown",
   "id": "68304f76-9d7b-4aa0-9e32-c6002d79c0cc",
   "metadata": {},
   "source": [
    "## What functions does this notebook expose?\n",
    "\n",
    "1. List all service accounts - `get_all_service_accounts`\n",
    "2. Create a new service account - `create_sa(sa_name)`\n",
    "3. Get the Keycloak Id associated with each SA - `get_idp_id_by_sa()`\n",
    "4. Get the Domino (Mongo) Id associated with each SA - `get_id_by_sa()`\n",
    "5. Create a named token for a service account. A service account can have many named tokens -`create_token(idpid,token_name)`\n",
    "6. Invalidate token for a service account. A token that is invalidated cannot be reactivated - `invalidate_token(token_name):`\n",
    "7. Delete token for a service account. A token with the same name can be recreated after its deleted - `delete_token(token_name)`\n",
    "8. Add a service account as a project collaborator (collab_id==sa_mongo_id) - `add_sa_as_project_collaborator(project_id,collab_id,project_role)`\n",
    "9. Get git credential id's associated with all users (id==mongo_id)- `get_git_credentials(id)`\n",
    "10. Get repo_id associated with a git backed project - `get_project_repo_id(project_id)`\n",
    "11. Get git credentials associated with a give project - `get_git_credentials`\n",
    "12. Add a git credential for a collaborating project for a given sa `add_git_cred_for_project_for_sa`\n",
    "13. Delete git credentials for a collaborating project for a given sa `delete_git_credentials_for_sa`\n",
    "\n",
    "(11,12,13) in the real world would be run by a SA token after the SA is added as a collaborator for a give project\n",
    "\n",
    "\n"
   ]
  },
  {
   "cell_type": "code",
   "execution_count": null,
   "id": "cbc3ceb0-b430-41a1-99cf-5eee2d3ce001",
   "metadata": {},
   "outputs": [],
   "source": [
    "## First step is fetch all service account\n",
    "def  get_all_service_accounts():\n",
    "    print(svc_accounts_endpoint)\n",
    "    resp = requests.get(svc_accounts_endpoint)\n",
    "    print(resp)\n",
    "    users=[]\n",
    "    if resp.status_code==200:\n",
    "        for u in resp.json():\n",
    "            users.append(u['username'])\n",
    "    return users"
   ]
  },
  {
   "cell_type": "code",
   "execution_count": null,
   "id": "4ba9acc6-57ea-4a6e-b25b-041d42cb43ae",
   "metadata": {},
   "outputs": [],
   "source": [
    "print(get_all_service_accounts())"
   ]
  },
  {
   "cell_type": "code",
   "execution_count": null,
   "id": "c6ea8f99-01b8-4e8c-9eca-990f144c3381",
   "metadata": {},
   "outputs": [],
   "source": [
    "## Create Service Accounts if they don't exist"
   ]
  },
  {
   "cell_type": "code",
   "execution_count": null,
   "id": "6ea7ebe1-1d8e-45b5-b02a-1456b6d01819",
   "metadata": {},
   "outputs": [],
   "source": [
    "def create_sa(sa_name:str):\n",
    "    data = {'username':sa_name,'email':f'{sa_name}@xyz.com'}\n",
    "    resp = requests.post(svc_accounts_endpoint,json=data,headers={'Content-Type':'application/json'})\n",
    "    print(f'Response for creating svc account {sa_name} is {resp.status_code}')\n",
    "    print(resp.json())\n",
    "    "
   ]
  },
  {
   "cell_type": "code",
   "execution_count": null,
   "id": "92e94a22-5565-4282-933b-3208016d8451",
   "metadata": {},
   "outputs": [],
   "source": [
    "svc_accounts=['svc-user-ds-u1','svc-admin-u2']\n",
    "for sa_name in svc_accounts:\n",
    "    ## 200 \n",
    "    create_sa(sa_name)"
   ]
  },
  {
   "cell_type": "code",
   "execution_count": null,
   "id": "48f68aa8-8d8e-42e0-8819-c0b6965e38ba",
   "metadata": {},
   "outputs": [],
   "source": [
    "#Now get Idp Id of all emails. This only returns active service accounts. If you have deactivated the SA\n",
    "#you can no longer see it. The only place to get that is from Mongo or Keycloak to reactivate\n",
    "#Activation of SA using names is not supported\n",
    "def get_idp_id_by_sa():\n",
    "    resp = requests.get(svc_accounts_endpoint)\n",
    "    print(resp.json())\n",
    "    idp_by_user={}\n",
    "    if resp.status_code==200:\n",
    "        for u in resp.json():\n",
    "            idp_by_user[u['username']]=u['idpId']\n",
    "    return idp_by_user\n",
    "def get_id_by_sa():\n",
    "    resp = requests.get(svc_accounts_endpoint)\n",
    "    print(resp.json())\n",
    "    idp_by_user={}\n",
    "    if resp.status_code==200:\n",
    "        for u in resp.json():\n",
    "            idp_by_user[u['username']]=u['id']\n",
    "    return idp_by_user"
   ]
  },
  {
   "cell_type": "code",
   "execution_count": null,
   "id": "e980a0a2-c950-4f34-94bd-506a68b64208",
   "metadata": {},
   "outputs": [],
   "source": [
    "idp_by_user = get_idp_id_by_sa()"
   ]
  },
  {
   "cell_type": "code",
   "execution_count": null,
   "id": "3dd350aa-4378-4289-ae94-878750a2c8b1",
   "metadata": {},
   "outputs": [],
   "source": [
    "# You cannot overwrite an existing or even an invalidated token. You have to delete it first\n",
    "def create_token(idpid,token_name):\n",
    "    token_endpoint= f'{svc_accounts_endpoint}/{idpid}/tokens'    \n",
    "    resp = requests.post(f\"{token_endpoint}\",json={\"name\":token_name},\n",
    "                         headers={'Content-Type':'application/json'})\n",
    "    print(resp.status_code)\n",
    "    return resp.json()"
   ]
  },
  {
   "cell_type": "code",
   "execution_count": null,
   "id": "50117bcf-4f51-4410-be6a-34b231492246",
   "metadata": {},
   "outputs": [],
   "source": [
    "results = []\n",
    "for user, idpid in idp_by_user.items():    \n",
    "    token_name = f\"{user}-token-app\"    \n",
    "    j = create_token(idpid,token_name)\n",
    "    results.append(j)\n",
    "\n",
    "with open(\"/tmp/output.json\", \"w\") as file:\n",
    "    json.dump(results, file, indent=2)"
   ]
  },
  {
   "cell_type": "code",
   "execution_count": null,
   "id": "0bff7fb5-a0a3-445a-81cf-983783d86ef2",
   "metadata": {},
   "outputs": [],
   "source": [
    "def deactivate_sa(idpid):\n",
    "    token_endpoint= f'{svc_accounts_endpoint}/{idpid}/deactivate'        \n",
    "    resp = requests.post(token_endpoint,headers={'Content-Type':'application/json'})\n",
    "    print(f\"Status code {resp.status_code} - Deactivating user {user}\")\n",
    "def activate_sa(idpid):\n",
    "    token_endpoint= f'{svc_accounts_endpoint}/{idpid}/activate'        \n",
    "    resp = requests.post(token_endpoint,headers={'Content-Type':'application/json'})\n",
    "    print(f\"Status code {resp.status_code} - Activating user {user}\")"
   ]
  },
  {
   "cell_type": "code",
   "execution_count": null,
   "id": "25012251-399f-48a1-8e0f-99e3a53bcae8",
   "metadata": {},
   "outputs": [],
   "source": [
    "for user, idpid in idp_by_user.items():\n",
    "    deactivate_sa(idpid)\n",
    "for user, idpid in idp_by_user.items():\n",
    "    activate_sa(idpid)"
   ]
  },
  {
   "cell_type": "code",
   "execution_count": null,
   "id": "747779e5-9219-4032-896e-c763ffa3d7fc",
   "metadata": {},
   "outputs": [],
   "source": [
    "#List all tokens\n",
    "def list_all_tokens(idpid):\n",
    "    token_endpoint= f'{svc_accounts_endpoint}/{idpid}/tokens'    \n",
    "    \n",
    "    resp = requests.get(token_endpoint,headers={'Content-Type':'application/json'})\n",
    "    \n",
    "    if resp.status_code==200:\n",
    "       out = resp.json()           \n",
    "       pretty_json = json.dumps(out, indent=4)\n",
    "       print(pretty_json)\n",
    "\n"
   ]
  },
  {
   "cell_type": "code",
   "execution_count": null,
   "id": "97448c8d-5475-4002-afa9-742f5f8ac685",
   "metadata": {},
   "outputs": [],
   "source": [
    "for user, idpid in idp_by_user.items():\n",
    "    list_all_tokens(idpid)"
   ]
  },
  {
   "cell_type": "code",
   "execution_count": null,
   "id": "82a2d0a9-6594-4981-b983-4af3e895fd1e",
   "metadata": {},
   "outputs": [],
   "source": [
    "def invalidate_token(token_name):\n",
    "    print(f\"Invalidating token {token_name}?\")\n",
    "    token_endpoint= f'{svc_accounts_endpoint}/{idpid}/tokens/{token_name}'    \n",
    "    resp = requests.post(f\"{token_endpoint}/invalidate\",headers={'Content-Type':'application/json'})\n",
    "    print(resp.status_code)\n",
    "def delete_token(token_name):\n",
    "    print(f\"Deleting token {token_name}?\")\n",
    "    token_endpoint= f'{svc_accounts_endpoint}/{idpid}/tokens/{token_name}'    \n",
    "    resp = requests.delete(f\"{token_endpoint}\",headers={'Content-Type':'application/json'})\n",
    "    print(resp.status_code)\n",
    "    "
   ]
  },
  {
   "cell_type": "code",
   "execution_count": null,
   "id": "deae52fd-1621-43b3-9e44-6304ece5691f",
   "metadata": {},
   "outputs": [],
   "source": [
    "for user, idpid in idp_by_user.items():    \n",
    "    token_name = f\"{user}-token-app\"\n",
    "    # Invalidated tokens cannot be used or be revalidated\n",
    "    invalidate_token(token_name)\n",
    "\n",
    "for user, idpid in idp_by_user.items():    \n",
    "    token_name = f\"{user}-token-app\"\n",
    "    # You have to delete a token to recreate it\n",
    "    delete_token(token_name)"
   ]
  },
  {
   "cell_type": "code",
   "execution_count": null,
   "id": "bfeda917-114a-4ce7-ab5d-8f5d63884413",
   "metadata": {},
   "outputs": [],
   "source": [
    "\n",
    "def add_sa_as_project_collaborator(project_id,collab_id,project_role):\n",
    "    project_endpoint= f'{api_proxy}/v4/projects/{project_id}/collaborators'\n",
    "    data = {\"collaboratorId\":collab_id,\n",
    "            \"projectRole\":project_role}\n",
    "    resp = requests.post(url=project_endpoint,json=data,headers={'Content-Type':'application/json'})\n",
    "    print(resp.status_code)\n",
    "    print(resp.json())\n",
    "    "
   ]
  },
  {
   "cell_type": "code",
   "execution_count": null,
   "id": "1c2c218d-2836-4844-ac33-c814d5440eca",
   "metadata": {},
   "outputs": [],
   "source": [
    "project_id = os.environ['DOMINO_PROJECT_ID']\n",
    "id_by_user = get_id_by_sa()\n",
    "for u,id in id_by_user.items():\n",
    "    add_sa_as_project_collaborator(project_id,id,\"Contributor\")\n"
   ]
  },
  {
   "cell_type": "code",
   "execution_count": null,
   "id": "d7a84353-7fbf-4cf9-8980-c91230f12aa5",
   "metadata": {},
   "outputs": [],
   "source": [
    "## Now we need to add a git credential to a service account"
   ]
  },
  {
   "cell_type": "code",
   "execution_count": null,
   "id": "2fbbf3ec-84c6-4dd6-b0ba-4f681d121271",
   "metadata": {},
   "outputs": [],
   "source": [
    "def delete_git_credentials_for_sa(id,credential_id):\n",
    "    url = f\"{api_proxy}/v4/accounts/{id}/gitcredentials/{credential_id}\"    \n",
    "    resp = requests.delete(url,headers={'Content-Type':'application/json'})   \n",
    "    print(resp.status_code)\n",
    "    return resp.json()"
   ]
  },
  {
   "cell_type": "code",
   "execution_count": null,
   "id": "93f8f958-09e8-4cc1-8262-a20851ad2245",
   "metadata": {},
   "outputs": [],
   "source": [
    "def add_git_credentials_to_sa(id,git_token_name,git_token):\n",
    "    url = f\"{api_proxy}/v4/accounts/{id}/gitcredentials\"\n",
    "    p = {\"name\":git_token_name,\"gitServiceProvider\":\"github\",\"accessType\":\"token\", \"token\":git_token,\"type\":\"TokenGitCredentialDto\"}\n",
    "    resp = requests.post(url,json=p,headers={'Content-Type':'application/json'})   \n",
    "    print(resp.status_code)\n",
    "    return resp.json()\n"
   ]
  },
  {
   "cell_type": "code",
   "execution_count": null,
   "id": "29e2247d-6180-455c-94ed-fc214590049e",
   "metadata": {},
   "outputs": [],
   "source": [
    "def get_git_credentials(id):\n",
    "    url = f\"{api_proxy}/v4/accounts/{id}/gitcredentials\"    \n",
    "    resp = requests.get(url,headers={'Content-Type':'application/json'})   \n",
    "    print(resp.status_code)\n",
    "    return resp.json()\n"
   ]
  },
  {
   "cell_type": "code",
   "execution_count": null,
   "id": "d33ca38f-1291-4dbe-80b5-7cffa202bee6",
   "metadata": {},
   "outputs": [],
   "source": [
    "project_id = os.environ['DOMINO_PROJECT_ID']\n",
    "id_by_user = get_id_by_sa()\n",
    "fake_token = \"xxx\"\n",
    "token_name = \"fake-name\"\n",
    "for u,id in id_by_user.items():\n",
    "    \n",
    "    creds = get_git_credentials(id)\n",
    "    for c in creds:\n",
    "        credential_id = c['id']\n",
    "        delete_git_credentials_for_sa(id,credential_id)\n",
    "        print(add_git_credentials_to_sa(id,token_name,fake_token))"
   ]
  },
  {
   "cell_type": "code",
   "execution_count": null,
   "id": "52171037-ea25-48fe-bcb8-bc41e259a273",
   "metadata": {},
   "outputs": [],
   "source": [
    "def get_project_repo_id(project_id):\n",
    "    url = f\"{api_proxy}/v4/projects/{project_id}\"    \n",
    "    git_repository_id = requests.get(url).json()['mainRepository']['id']\n",
    "    return git_repository_id\n",
    "\n",
    "##Run this using the service account token. This is for illustration only\n",
    "def add_git_cred_for_project_for_sa(project_id,repo_id,cred_id):\n",
    "    url = f\"{api_proxy}/v4/projects/{project_id}/repository/{repo_id}/credentialMapping\"\n",
    "    out = requests.put(url,json={\"credentialId\": cred_id})\n",
    "    print(out.status_code)\n",
    "    print(out.text)\n",
    "\n",
    "def get_git_cred_for_project_for_sa(project_id,repo_id):\n",
    "    url = f\"{api_proxy}/v4/projects/{project_id}/repository/{repo_id}/credentialMapping\"\n",
    "    out = requests.get(url)\n",
    "    print(out.status_code)\n",
    "    print(out.text)\n",
    "\n",
    "def delete_git_cred_for_project_for_sa(project_id,repo_id):\n",
    "    url = f\"{api_proxy}/v4/projects/{project_id}/repository/{repo_id}/credentialMapping\"\n",
    "    out = requests.delete(url)\n",
    "    print(out.status_code)\n",
    "    print(out.text)\n",
    "\n"
   ]
  },
  {
   "cell_type": "code",
   "execution_count": null,
   "id": "0ec53fd8-9cf7-4adc-b73c-2c8001f57d89",
   "metadata": {},
   "outputs": [],
   "source": [
    "\n",
    "project_id = os.environ['DOMINO_PROJECT_ID']\n",
    "id_by_user = get_id_by_sa()\n",
    "repo_id = get_project_repo_id(project_id)\n",
    "print(f\"Repo id {repo_id}\")"
   ]
  },
  {
   "cell_type": "code",
   "execution_count": null,
   "id": "9a457fff-29bd-4922-8cea-6a1b930f08f4",
   "metadata": {},
   "outputs": [],
   "source": [
    "##This should be run using each service account tokens \n",
    "for u,id in id_by_user.items():\n",
    "    creds = get_git_credentials(id)\n",
    "    credential_id = creds[0]['id']\n",
    "    print(\"Get Git Cred mapping\")\n",
    "    print(get_git_cred_for_project_for_sa(project_id,repo_id))\n",
    "\n",
    "    print(\"Delete Git Cred mapping\")\n",
    "    delete_git_cred_for_project_for_sa(project_id,repo_id)\n",
    "\n",
    "    print(\"Add Git Cred mapping\")\n",
    "    add_git_cred_for_project_for_sa(project_id,repo_id,credential_id)"
   ]
  },
  {
   "cell_type": "code",
   "execution_count": null,
   "id": "ca156d0f-fcff-473d-824b-23b8fae7add3",
   "metadata": {},
   "outputs": [],
   "source": [
    "## And now you can use the service account token to run jobs for a git backed project"
   ]
  },
  {
   "cell_type": "code",
   "execution_count": null,
   "id": "9d82f1d0-6ac5-44ef-98e1-76db5ccc5665",
   "metadata": {},
   "outputs": [],
   "source": []
  }
 ],
 "metadata": {
  "kernelspec": {
   "display_name": "Python 3 (ipykernel)",
   "language": "python",
   "name": "python3"
  },
  "language_info": {
   "codemirror_mode": {
    "name": "ipython",
    "version": 3
   },
   "file_extension": ".py",
   "mimetype": "text/x-python",
   "name": "python",
   "nbconvert_exporter": "python",
   "pygments_lexer": "ipython3",
   "version": "3.10.14"
  }
 },
 "nbformat": 4,
 "nbformat_minor": 5
}
