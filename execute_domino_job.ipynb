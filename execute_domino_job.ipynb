{
 "cells": [
  {
   "cell_type": "code",
   "execution_count": 18,
   "id": "9643d8fd-750a-4a82-8728-c2bd241bb0f5",
   "metadata": {},
   "outputs": [],
   "source": [
    "import os\n",
    "import requests"
   ]
  },
  {
   "cell_type": "code",
   "execution_count": 21,
   "id": "fe328509-62e4-4a46-839c-8a50db8115f7",
   "metadata": {},
   "outputs": [],
   "source": [
    "def get_hw_tier_id(name: str):\n",
    "    api_proxy = os.environ['DOMINO_API_PROXY']\n",
    "    url = f\"{api_proxy}/v4/hardwareTier\"\n",
    "    results = requests.get(url)\n",
    "    hw_tiers = results.json()['hardwareTiers']\n",
    "    for h in hw_tiers:\n",
    "        if h['name']==name:\n",
    "            return h\n"
   ]
  },
  {
   "cell_type": "code",
   "execution_count": 22,
   "id": "8ae8ebf7-d285-489a-8ea8-e086baf4a611",
   "metadata": {},
   "outputs": [],
   "source": [
    "\n",
    "def get_environment_id(name: str):\n",
    "    api_proxy = os.environ['DOMINO_API_PROXY']\n",
    "    url = f\"{api_proxy}/v4/environments/self\"\n",
    "    results = requests.get(url)\n",
    "    envs = results.json()\n",
    "    for e in envs:\n",
    "        if e['name']==name:\n",
    "            return e\n"
   ]
  },
  {
   "cell_type": "code",
   "execution_count": 23,
   "id": "6ad86b3b-1cdb-4008-99bc-8977bc7ab645",
   "metadata": {},
   "outputs": [],
   "source": [
    "from domino import Domino"
   ]
  },
  {
   "cell_type": "code",
   "execution_count": 24,
   "id": "cd0f98f6-aa4f-4369-bfbb-9a10517e6c7b",
   "metadata": {},
   "outputs": [],
   "source": [
    "domino = Domino(\"wadkars/ddl-end-to-end-demo\")"
   ]
  },
  {
   "cell_type": "code",
   "execution_count": null,
   "id": "71b718ae-ca54-42f6-87e2-186c9044ef39",
   "metadata": {},
   "outputs": [],
   "source": [
    "compute_hw_tier_id = get_hw_tier_id(name=\"Medium\")['id']\n",
    "head_hw_tier_id = get_hw_tier_id(name=\"Medium\")['id']\n",
    "worker_hw_tier_id = get_hw_tier_id(name=\"Medium\")['id']\n",
    "\n",
    "command=\"python -m ray_examples.xgboost --config-dir ./conf env=dev\"\n",
    "hardware_tier_name=\"Medium\"\n",
    "cluster_env_id = get_environment_id('SW-Domino 6.0 Ray Cluster Env')['id']\n",
    "compute_env_id = get_environment_id('SW-DSE6+Ray Env')['id']\n",
    "\n",
    "title = f\"Ray XGBoost {os.environ['DOMINO_STARTING_USERNAME']}\")"
   ]
  },
  {
   "cell_type": "code",
   "execution_count": 26,
   "id": "499f3dd5-c356-47ff-a06f-73d2063059e9",
   "metadata": {},
   "outputs": [],
   "source": [
    "compute_cluster = {\n",
    "    \"clusterType\": \"Ray\",\n",
    "    \"computeEnvironmentId\": cluster_env_id,\n",
    "    \"computeEnvironmentRevisionSpec\": \"ActiveRevision\",    \n",
    "    \"masterHardwareTierId\": head_hw_tier_id,\n",
    "    \"workerCount\": 4,\n",
    "    \"workerHardwareTierId\": worker_hw_tier_id,\n",
    "    #\"maxWorkerCount\": 4\n",
    "}"
   ]
  },
  {
   "cell_type": "code",
   "execution_count": 29,
   "id": "e615c5a0-7441-4433-8a2a-24535674108d",
   "metadata": {},
   "outputs": [
    {
     "name": "stderr",
     "output_type": "stream",
     "text": [
      "INFO:domino.domino:Polling Job: 68b5cda74436a82da3559bbc status is completed: False\n",
      "INFO:domino.domino:Polling Job: 68b5cda74436a82da3559bbc status is completed: False\n",
      "INFO:domino.domino:Polling Job: 68b5cda74436a82da3559bbc status is completed: False\n",
      "INFO:domino.domino:Polling Job: 68b5cda74436a82da3559bbc status is completed: False\n",
      "INFO:domino.domino:Polling Job: 68b5cda74436a82da3559bbc status is completed: False\n",
      "INFO:domino.domino:Polling Job: 68b5cda74436a82da3559bbc status is completed: False\n",
      "INFO:domino.domino:Polling Job: 68b5cda74436a82da3559bbc status is completed: False\n",
      "INFO:domino.domino:Polling Job: 68b5cda74436a82da3559bbc status is completed: False\n",
      "INFO:domino.domino:Polling Job: 68b5cda74436a82da3559bbc status is completed: False\n",
      "INFO:domino.domino:Polling Job: 68b5cda74436a82da3559bbc status is completed: False\n",
      "INFO:domino.domino:Polling Job: 68b5cda74436a82da3559bbc status is completed: False\n",
      "INFO:domino.domino:Polling Job: 68b5cda74436a82da3559bbc status is completed: False\n",
      "INFO:domino.domino:Polling Job: 68b5cda74436a82da3559bbc status is completed: False\n",
      "INFO:domino.domino:Polling Job: 68b5cda74436a82da3559bbc status is completed: False\n",
      "INFO:domino.domino:Polling Job: 68b5cda74436a82da3559bbc status is completed: False\n",
      "INFO:domino.domino:Polling Job: 68b5cda74436a82da3559bbc status is completed: False\n",
      "INFO:domino.domino:Polling Job: 68b5cda74436a82da3559bbc status is completed: False\n",
      "INFO:domino.domino:Polling Job: 68b5cda74436a82da3559bbc status is completed: False\n",
      "INFO:domino.domino:Polling Job: 68b5cda74436a82da3559bbc status is completed: False\n",
      "INFO:domino.domino:Polling Job: 68b5cda74436a82da3559bbc status is completed: False\n",
      "INFO:domino.domino:Polling Job: 68b5cda74436a82da3559bbc status is completed: False\n",
      "INFO:domino.domino:Polling Job: 68b5cda74436a82da3559bbc status is completed: False\n",
      "INFO:domino.domino:Polling Job: 68b5cda74436a82da3559bbc status is completed: False\n",
      "INFO:domino.domino:Polling Job: 68b5cda74436a82da3559bbc status is completed: False\n",
      "INFO:domino.domino:Polling Job: 68b5cda74436a82da3559bbc status is completed: False\n",
      "INFO:domino.domino:Polling Job: 68b5cda74436a82da3559bbc status is completed: False\n",
      "INFO:domino.domino:Polling Job: 68b5cda74436a82da3559bbc status is completed: False\n",
      "INFO:domino.domino:Polling Job: 68b5cda74436a82da3559bbc status is completed: False\n",
      "INFO:domino.domino:Polling Job: 68b5cda74436a82da3559bbc status is completed: False\n",
      "INFO:domino.domino:Polling Job: 68b5cda74436a82da3559bbc status is completed: True\n"
     ]
    },
    {
     "ename": "RunFailedException",
     "evalue": "Run Status Failed for run: 68b5cda74436a82da3559bbc",
     "output_type": "error",
     "traceback": [
      "\u001b[0;31m---------------------------------------------------------------------------\u001b[0m",
      "\u001b[0;31mRunFailedException\u001b[0m                        Traceback (most recent call last)",
      "Cell \u001b[0;32mIn[29], line 1\u001b[0m\n\u001b[0;32m----> 1\u001b[0m \u001b[43mdomino\u001b[49m\u001b[38;5;241;43m.\u001b[39;49m\u001b[43mjob_start_blocking\u001b[49m\u001b[43m(\u001b[49m\u001b[43mpoll_freq\u001b[49m\u001b[38;5;241;43m=\u001b[39;49m\u001b[38;5;241;43m5\u001b[39;49m\u001b[43m,\u001b[49m\u001b[43mmax_poll_time\u001b[49m\u001b[38;5;241;43m=\u001b[39;49m\u001b[38;5;241;43m6000\u001b[39;49m\u001b[43m,\u001b[49m\u001b[43mcommand\u001b[49m\u001b[38;5;241;43m=\u001b[39;49m\u001b[43mcommand\u001b[49m\u001b[43m,\u001b[49m\n\u001b[1;32m      2\u001b[0m \u001b[43m                 \u001b[49m\u001b[43mhardware_tier_name\u001b[49m\u001b[38;5;241;43m=\u001b[39;49m\u001b[38;5;124;43m\"\u001b[39;49m\u001b[38;5;124;43mMedium\u001b[39;49m\u001b[38;5;124;43m\"\u001b[39;49m\u001b[43m,\u001b[49m\u001b[43menvironment_id\u001b[49m\u001b[38;5;241;43m=\u001b[39;49m\u001b[43mcompute_env_id\u001b[49m\u001b[43m,\u001b[49m\n\u001b[1;32m      3\u001b[0m \u001b[43m                 \u001b[49m\u001b[43mcompute_cluster_properties\u001b[49m\u001b[38;5;241;43m=\u001b[39;49m\u001b[43mcompute_cluster\u001b[49m\u001b[43m)\u001b[49m\n",
      "File \u001b[0;32m/opt/conda/lib/python3.10/site-packages/domino/domino.py:668\u001b[0m, in \u001b[0;36mDomino.job_start_blocking\u001b[0;34m(self, poll_freq, max_poll_time, ignore_exceptions, **kwargs)\u001b[0m\n\u001b[1;32m    666\u001b[0m job \u001b[38;5;241m=\u001b[39m \u001b[38;5;28mself\u001b[39m\u001b[38;5;241m.\u001b[39mjob_start(\u001b[38;5;241m*\u001b[39m\u001b[38;5;241m*\u001b[39mkwargs)\n\u001b[1;32m    667\u001b[0m job_id \u001b[38;5;241m=\u001b[39m job[\u001b[38;5;124m\"\u001b[39m\u001b[38;5;124mid\u001b[39m\u001b[38;5;124m\"\u001b[39m]\n\u001b[0;32m--> 668\u001b[0m job_status \u001b[38;5;241m=\u001b[39m \u001b[43mpolling2\u001b[49m\u001b[38;5;241;43m.\u001b[39;49m\u001b[43mpoll\u001b[49m\u001b[43m(\u001b[49m\n\u001b[1;32m    669\u001b[0m \u001b[43m    \u001b[49m\u001b[43mtarget\u001b[49m\u001b[38;5;241;43m=\u001b[39;49m\u001b[38;5;28;43;01mlambda\u001b[39;49;00m\u001b[43m:\u001b[49m\u001b[43m \u001b[49m\u001b[43mget_job_status\u001b[49m\u001b[43m(\u001b[49m\u001b[43mjob_id\u001b[49m\u001b[43m)\u001b[49m\u001b[43m,\u001b[49m\n\u001b[1;32m    670\u001b[0m \u001b[43m    \u001b[49m\u001b[43mcheck_success\u001b[49m\u001b[38;5;241;43m=\u001b[39;49m\u001b[38;5;28;43;01mlambda\u001b[39;49;00m\u001b[43m \u001b[49m\u001b[43mstatus\u001b[49m\u001b[43m:\u001b[49m\u001b[43m \u001b[49m\u001b[43mstatus\u001b[49m\u001b[43m[\u001b[49m\u001b[38;5;124;43m\"\u001b[39;49m\u001b[38;5;124;43mstatuses\u001b[39;49m\u001b[38;5;124;43m\"\u001b[39;49m\u001b[43m]\u001b[49m\u001b[43m[\u001b[49m\u001b[38;5;124;43m\"\u001b[39;49m\u001b[38;5;124;43misCompleted\u001b[39;49m\u001b[38;5;124;43m\"\u001b[39;49m\u001b[43m]\u001b[49m\u001b[43m,\u001b[49m\n\u001b[1;32m    671\u001b[0m \u001b[43m    \u001b[49m\u001b[43mignore_exceptions\u001b[49m\u001b[38;5;241;43m=\u001b[39;49m\u001b[43mignore_exceptions\u001b[49m\u001b[43m,\u001b[49m\n\u001b[1;32m    672\u001b[0m \u001b[43m    \u001b[49m\u001b[43mtimeout\u001b[49m\u001b[38;5;241;43m=\u001b[39;49m\u001b[43mmax_poll_time\u001b[49m\u001b[43m,\u001b[49m\n\u001b[1;32m    673\u001b[0m \u001b[43m    \u001b[49m\u001b[43mstep\u001b[49m\u001b[38;5;241;43m=\u001b[39;49m\u001b[43mpoll_freq\u001b[49m\u001b[43m,\u001b[49m\n\u001b[1;32m    674\u001b[0m \u001b[43m    \u001b[49m\u001b[43mlog_error\u001b[49m\u001b[38;5;241;43m=\u001b[39;49m\u001b[38;5;28;43mself\u001b[39;49m\u001b[38;5;241;43m.\u001b[39;49m\u001b[43mlog\u001b[49m\u001b[38;5;241;43m.\u001b[39;49m\u001b[43mlevel\u001b[49m\u001b[43m,\u001b[49m\n\u001b[1;32m    675\u001b[0m \u001b[43m\u001b[49m\u001b[43m)\u001b[49m\n\u001b[1;32m    676\u001b[0m stdout_msg \u001b[38;5;241m=\u001b[39m \u001b[38;5;28mself\u001b[39m\u001b[38;5;241m.\u001b[39mget_run_log(runId\u001b[38;5;241m=\u001b[39mjob_id, includeSetupLog\u001b[38;5;241m=\u001b[39m\u001b[38;5;28;01mFalse\u001b[39;00m)\n\u001b[1;32m    677\u001b[0m \u001b[38;5;28mself\u001b[39m\u001b[38;5;241m.\u001b[39mprocess_log(stdout_msg)\n",
      "File \u001b[0;32m/opt/conda/lib/python3.10/site-packages/polling2.py:193\u001b[0m, in \u001b[0;36mpoll\u001b[0;34m(target, step, args, kwargs, timeout, max_tries, check_success, step_function, ignore_exceptions, poll_forever, collect_values, log, log_error)\u001b[0m\n\u001b[1;32m    190\u001b[0m     \u001b[38;5;28;01mraise\u001b[39;00m MaxCallException(values, last_item)\n\u001b[1;32m    192\u001b[0m \u001b[38;5;28;01mtry\u001b[39;00m:\n\u001b[0;32m--> 193\u001b[0m     val \u001b[38;5;241m=\u001b[39m \u001b[43mtarget\u001b[49m\u001b[43m(\u001b[49m\u001b[38;5;241;43m*\u001b[39;49m\u001b[43margs\u001b[49m\u001b[43m,\u001b[49m\u001b[43m \u001b[49m\u001b[38;5;241;43m*\u001b[39;49m\u001b[38;5;241;43m*\u001b[39;49m\u001b[43mkwargs\u001b[49m\u001b[43m)\u001b[49m\n\u001b[1;32m    194\u001b[0m     last_item \u001b[38;5;241m=\u001b[39m val\n\u001b[1;32m    195\u001b[0m \u001b[38;5;28;01mexcept\u001b[39;00m ignore_exceptions \u001b[38;5;28;01mas\u001b[39;00m e:\n",
      "File \u001b[0;32m/opt/conda/lib/python3.10/site-packages/domino/domino.py:669\u001b[0m, in \u001b[0;36mDomino.job_start_blocking.<locals>.<lambda>\u001b[0;34m()\u001b[0m\n\u001b[1;32m    666\u001b[0m job \u001b[38;5;241m=\u001b[39m \u001b[38;5;28mself\u001b[39m\u001b[38;5;241m.\u001b[39mjob_start(\u001b[38;5;241m*\u001b[39m\u001b[38;5;241m*\u001b[39mkwargs)\n\u001b[1;32m    667\u001b[0m job_id \u001b[38;5;241m=\u001b[39m job[\u001b[38;5;124m\"\u001b[39m\u001b[38;5;124mid\u001b[39m\u001b[38;5;124m\"\u001b[39m]\n\u001b[1;32m    668\u001b[0m job_status \u001b[38;5;241m=\u001b[39m polling2\u001b[38;5;241m.\u001b[39mpoll(\n\u001b[0;32m--> 669\u001b[0m     target\u001b[38;5;241m=\u001b[39m\u001b[38;5;28;01mlambda\u001b[39;00m: \u001b[43mget_job_status\u001b[49m\u001b[43m(\u001b[49m\u001b[43mjob_id\u001b[49m\u001b[43m)\u001b[49m,\n\u001b[1;32m    670\u001b[0m     check_success\u001b[38;5;241m=\u001b[39m\u001b[38;5;28;01mlambda\u001b[39;00m status: status[\u001b[38;5;124m\"\u001b[39m\u001b[38;5;124mstatuses\u001b[39m\u001b[38;5;124m\"\u001b[39m][\u001b[38;5;124m\"\u001b[39m\u001b[38;5;124misCompleted\u001b[39m\u001b[38;5;124m\"\u001b[39m],\n\u001b[1;32m    671\u001b[0m     ignore_exceptions\u001b[38;5;241m=\u001b[39mignore_exceptions,\n\u001b[1;32m    672\u001b[0m     timeout\u001b[38;5;241m=\u001b[39mmax_poll_time,\n\u001b[1;32m    673\u001b[0m     step\u001b[38;5;241m=\u001b[39mpoll_freq,\n\u001b[1;32m    674\u001b[0m     log_error\u001b[38;5;241m=\u001b[39m\u001b[38;5;28mself\u001b[39m\u001b[38;5;241m.\u001b[39mlog\u001b[38;5;241m.\u001b[39mlevel,\n\u001b[1;32m    675\u001b[0m )\n\u001b[1;32m    676\u001b[0m stdout_msg \u001b[38;5;241m=\u001b[39m \u001b[38;5;28mself\u001b[39m\u001b[38;5;241m.\u001b[39mget_run_log(runId\u001b[38;5;241m=\u001b[39mjob_id, includeSetupLog\u001b[38;5;241m=\u001b[39m\u001b[38;5;28;01mFalse\u001b[39;00m)\n\u001b[1;32m    677\u001b[0m \u001b[38;5;28mself\u001b[39m\u001b[38;5;241m.\u001b[39mprocess_log(stdout_msg)\n",
      "File \u001b[0;32m/opt/conda/lib/python3.10/site-packages/domino/domino.py:661\u001b[0m, in \u001b[0;36mDomino.job_start_blocking.<locals>.get_job_status\u001b[0;34m(job_identifier)\u001b[0m\n\u001b[1;32m    657\u001b[0m \u001b[38;5;28mself\u001b[39m\u001b[38;5;241m.\u001b[39mlog\u001b[38;5;241m.\u001b[39minfo(\n\u001b[1;32m    658\u001b[0m     \u001b[38;5;124mf\u001b[39m\u001b[38;5;124m\"\u001b[39m\u001b[38;5;124mPolling Job: \u001b[39m\u001b[38;5;132;01m{\u001b[39;00mjob_identifier\u001b[38;5;132;01m}\u001b[39;00m\u001b[38;5;124m status is completed: \u001b[39m\u001b[38;5;132;01m{\u001b[39;00mstatus[\u001b[38;5;124m'\u001b[39m\u001b[38;5;124mstatuses\u001b[39m\u001b[38;5;124m'\u001b[39m][\u001b[38;5;124m'\u001b[39m\u001b[38;5;124misCompleted\u001b[39m\u001b[38;5;124m'\u001b[39m]\u001b[38;5;132;01m}\u001b[39;00m\u001b[38;5;124m\"\u001b[39m\n\u001b[1;32m    659\u001b[0m )\n\u001b[1;32m    660\u001b[0m \u001b[38;5;28;01mif\u001b[39;00m status[\u001b[38;5;124m\"\u001b[39m\u001b[38;5;124mstatuses\u001b[39m\u001b[38;5;124m\"\u001b[39m][\u001b[38;5;124m\"\u001b[39m\u001b[38;5;124mexecutionStatus\u001b[39m\u001b[38;5;124m\"\u001b[39m] \u001b[38;5;241m==\u001b[39m \u001b[38;5;124m\"\u001b[39m\u001b[38;5;124mFailed\u001b[39m\u001b[38;5;124m\"\u001b[39m:\n\u001b[0;32m--> 661\u001b[0m     \u001b[38;5;28;01mraise\u001b[39;00m exceptions\u001b[38;5;241m.\u001b[39mRunFailedException(\n\u001b[1;32m    662\u001b[0m         \u001b[38;5;124mf\u001b[39m\u001b[38;5;124m\"\u001b[39m\u001b[38;5;124mRun Status Failed for run: \u001b[39m\u001b[38;5;132;01m{\u001b[39;00mjob_identifier\u001b[38;5;132;01m}\u001b[39;00m\u001b[38;5;124m\"\u001b[39m\n\u001b[1;32m    663\u001b[0m     )\n\u001b[1;32m    664\u001b[0m \u001b[38;5;28;01mreturn\u001b[39;00m status\n",
      "\u001b[0;31mRunFailedException\u001b[0m: Run Status Failed for run: 68b5cda74436a82da3559bbc"
     ]
    }
   ],
   "source": [
    "domino.job_start_blocking(poll_freq=5,max_poll_time=6000,title=title,command=command,\n",
    "                 hardware_tier_name=\"Medium\",environment_id=compute_env_id,\n",
    "                 compute_cluster_properties=compute_cluster)"
   ]
  },
  {
   "cell_type": "code",
   "execution_count": null,
   "id": "4c6c8962-0f1c-4c61-9601-d9d2f5368212",
   "metadata": {},
   "outputs": [],
   "source": []
  }
 ],
 "metadata": {
  "kernelspec": {
   "display_name": "Python 3 (ipykernel)",
   "language": "python",
   "name": "python3"
  },
  "language_info": {
   "codemirror_mode": {
    "name": "ipython",
    "version": 3
   },
   "file_extension": ".py",
   "mimetype": "text/x-python",
   "name": "python",
   "nbconvert_exporter": "python",
   "pygments_lexer": "ipython3",
   "version": "3.10.14"
  }
 },
 "nbformat": 4,
 "nbformat_minor": 5
}
