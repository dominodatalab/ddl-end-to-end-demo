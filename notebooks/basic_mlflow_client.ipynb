{
 "cells": [
  {
   "cell_type": "code",
   "execution_count": 1,
   "id": "7ba3c085-eb7f-47ff-8d75-23b033069f43",
   "metadata": {},
   "outputs": [],
   "source": [
    "import sys\n",
    "sys.path.append(\"/mnt/code\")"
   ]
  },
  {
   "cell_type": "code",
   "execution_count": 2,
   "id": "c0e4d09f-86a9-4224-91c4-79daef5cfe4c",
   "metadata": {},
   "outputs": [],
   "source": [
    "from __future__ import annotations\n",
    "import os\n",
    "from utils import mlflow_utils\n",
    "import xgboost as xgb\n",
    "from sklearn.datasets import load_breast_cancer\n",
    "from sklearn.model_selection import train_test_split\n",
    "from sklearn.metrics import accuracy_score\n",
    "\n",
    "import mlflow\n",
    "from mlflow import MlflowClient\n",
    "from mlflow.entities import Run\n",
    "from mlflow.entities.model_registry import ModelVersion\n",
    "from mlflow.models.model import ModelInfo\n",
    "from mlflow.exceptions import RestException\n",
    "from mlflow.store.artifact.runs_artifact_repo import RunsArtifactRepository\n",
    "\n",
    "\n",
    "\n",
    "from typing import Optional, Iterable, Union\n",
    "import numpy as np\n",
    "import pandas as pd\n",
    "import mlflow\n",
    "import mlflow.pyfunc\n",
    "import mlflow.xgboost\n",
    "from mlflow.artifacts import download_artifacts\n",
    "import xgboost as xgb"
   ]
  },
  {
   "cell_type": "code",
   "execution_count": 3,
   "id": "164ac873-e488-4d17-a4c3-cab21212e406",
   "metadata": {},
   "outputs": [
    {
     "data": {
      "text/plain": [
       "<RegisteredModel: aliases={}, creation_timestamp=1758501006243, description='', last_updated_timestamp=1758655217099, latest_versions=[<ModelVersion: aliases=[], creation_timestamp=1758655217099, current_stage='None', description='XGB basic demo — acc=0.9580', last_updated_timestamp=1758655217099, name='xgb-demo-wadkars-demo-v1', run_id='8becdbd12a7546638b4be51be8593f7c', run_link='', source='mlflow-artifacts:/mlflow/8becdbd12a7546638b4be51be8593f7c/artifacts/model', status='READY', status_message='', tags={'mlflow.domino.dataset_info': '68b08bc1dc77613e66e63652-68b08bc1dc77613e66e63651,68b8a07b2ad64d0492eb2c97-68b8a07b2ad64d0492eb2c96',\n",
       " 'mlflow.domino.environment_id': '68b0bb70dc77613e66e6368d',\n",
       " 'mlflow.domino.environment_revision_id': '68ceaf1ac4ae886f22d8150d',\n",
       " 'mlflow.domino.hardware_tier': 'medium-k8s',\n",
       " 'mlflow.domino.project_id': '68b08bbfdc77613e66e6364e',\n",
       " 'mlflow.domino.project_name': 'ddl-end-to-end-demo',\n",
       " 'mlflow.domino.run_id': '68d2d61cc2deda4aff8bddd6',\n",
       " 'mlflow.domino.run_number': '76',\n",
       " 'mlflow.domino.user': 'wadkars',\n",
       " 'mlflow.domino.user_id': '68ac9b59ea374e2b81c48d75',\n",
       " 'mlflow.source.type': 'NOTEBOOK',\n",
       " 'mlflow.user': 'wadkars'}, user_id='', version='3'>], name='xgb-demo-wadkars-demo-v1', tags={'mlflow.domino.dataset_info': '68b08bc1dc77613e66e63652-68b08bc1dc77613e66e63651,68b8a07b2ad64d0492eb2c97-68b8a07b2ad64d0492eb2c96',\n",
       " 'mlflow.domino.environment_id': '68b0bb70dc77613e66e6368d',\n",
       " 'mlflow.domino.environment_revision_id': '68ceaf1ac4ae886f22d8150d',\n",
       " 'mlflow.domino.hardware_tier': 'medium-k8s',\n",
       " 'mlflow.domino.project_id': '68b08bbfdc77613e66e6364e',\n",
       " 'mlflow.domino.project_name': 'ddl-end-to-end-demo',\n",
       " 'mlflow.domino.provenance_checkpoint_id': '68d0987019b70f6cdbd1b7ca',\n",
       " 'mlflow.domino.run_id': '68d09631e5768d3a1f9f85db',\n",
       " 'mlflow.domino.run_number': '61',\n",
       " 'mlflow.domino.user': 'wadkars',\n",
       " 'mlflow.domino.user_id': '68ac9b59ea374e2b81c48d75',\n",
       " 'mlflow.source.git.branch': 'main',\n",
       " 'mlflow.source.git.commit': '08edfe0f8453e980639053081839e82529665c96',\n",
       " 'mlflow.source.type': 'NOTEBOOK',\n",
       " 'mlflow.user': 'wadkars'}>"
      ]
     },
     "execution_count": 3,
     "metadata": {},
     "output_type": "execute_result"
    }
   ],
   "source": [
    "my_name = os.environ['DOMINO_STARTING_USERNAME']\n",
    "exp_model_name = f\"xgb-demo-{my_name}-demo-v1\"\n",
    "model_name = exp_model_name\n",
    "mlflow_utils.ensure_mlflow_experiment(exp_model_name)\n",
    "mlflow_utils.ensure_registered_model(exp_model_name)"
   ]
  },
  {
   "cell_type": "code",
   "execution_count": 5,
   "id": "952a6292-8d54-4bee-8534-359a3d9b3dc8",
   "metadata": {},
   "outputs": [
    {
     "name": "stderr",
     "output_type": "stream",
     "text": [
      "/opt/conda/lib/python3.10/site-packages/xgboost/core.py:158: UserWarning: [17:49:23] WARNING: /workspace/src/c_api/c_api.cc:1374: Saving model in the UBJSON format as default.  You can use file extension: `json`, `ubj` or `deprecated` to choose between formats.\n",
      "  warnings.warn(smsg, UserWarning)\n",
      "2025/09/25 17:49:25 WARNING mlflow.models.model: Model logged without a signature and input example. Please set `input_example` parameter when logging the model to auto infer the model signature.\n",
      "2025/09/25 17:49:26 INFO mlflow.store.model_registry.abstract_store: Waiting up to 300 seconds for model version to finish creation. Model name: xgb-demo-wadkars-demo-v1, version 4\n"
     ]
    },
    {
     "name": "stdout",
     "output_type": "stream",
     "text": [
      "Run ID:        0a1e50c468cd454abec3c67a524be5aa\n",
      "Model URI:     runs:/0a1e50c468cd454abec3c67a524be5aa/model\n",
      "Registered:    xgb-demo-wadkars-demo-v1 v4 (status=READY)\n",
      "🏃 View run xgb-basic at: http://127.0.0.1:8765/#/experiments/269/runs/0a1e50c468cd454abec3c67a524be5aa\n",
      "🧪 View experiment at: http://127.0.0.1:8765/#/experiments/269\n"
     ]
    }
   ],
   "source": [
    "    # Optional: point to your MLflow server\n",
    "    # mlflow.set_tracking_uri(\"http://localhost:5000\")\n",
    "    # mlflow.set_registry_uri(\"http://localhost:5000\")\n",
    "\n",
    "\n",
    "    # Data\n",
    "    X, y = load_breast_cancer(return_X_y=True, as_frame=False)\n",
    "    Xtr, Xte, ytr, yte = train_test_split(X, y, test_size=0.25, random_state=42, stratify=y)\n",
    "\n",
    "    # Simple XGBoost classifier\n",
    "    model = xgb.XGBClassifier(\n",
    "        n_estimators=80,\n",
    "        max_depth=3,\n",
    "        learning_rate=0.1,\n",
    "        subsample=0.9,\n",
    "        colsample_bytree=0.9,\n",
    "        reg_lambda=1.0,\n",
    "        random_state=42,\n",
    "        eval_metric=\"logloss\",\n",
    "        n_jobs=4,\n",
    "    )\n",
    "\n",
    "    with mlflow.start_run(run_name=\"xgb-basic\") as run:\n",
    "        model.fit(Xtr, ytr)\n",
    "        preds = model.predict(Xte)\n",
    "        acc = accuracy_score(yte, preds)\n",
    "\n",
    "        # Log params/metrics\n",
    "        mlflow.log_params({\n",
    "            \"n_estimators\": model.n_estimators,\n",
    "            \"max_depth\": model.max_depth,\n",
    "            \"learning_rate\": model.learning_rate,\n",
    "            \"subsample\": model.subsample,\n",
    "            \"colsample_bytree\": model.colsample_bytree,\n",
    "        })\n",
    "        mlflow.log_metric(\"accuracy\", acc)\n",
    "\n",
    "        # Log model (returns ModelInfo with .model_uri)\n",
    "        model_info: ModelInfo = mlflow.xgboost.log_model(\n",
    "            xgb_model=model,\n",
    "            artifact_path=\"model\",\n",
    "            registered_model_name=None,  # we’ll register a version explicitly below\n",
    "        )\n",
    "\n",
    "        # Ensure a registered model exists, then create a version from this run      \n",
    "        \n",
    "\n",
    "        mv: ModelVersion = mlflow_utils.register_model_version(\n",
    "            model_name=exp_model_name,\n",
    "            model_desc=f\"XGB basic demo — acc={acc:.4f}\",\n",
    "            model_info=model_info,\n",
    "            run=run,\n",
    "        )\n",
    "\n",
    "        print(f\"Run ID:        {run.info.run_id}\")\n",
    "        print(f\"Model URI:     {model_info.model_uri}\")\n",
    "        print(f\"Registered:    {model_name} v{mv.version} (status={mv.status})\")\n",
    "\n"
   ]
  },
  {
   "cell_type": "code",
   "execution_count": 6,
   "id": "4d5ab2c9-8798-4929-b7eb-435313462f22",
   "metadata": {},
   "outputs": [],
   "source": [
    "# ---------- Option A: load as PyFunc (simplest .predict on DataFrame/ndarray) ----------\n",
    "\n",
    "def load_xgb_pyfunc_version(model_name: str, version: Union[int, str]) -> mlflow.pyfunc.PyFuncModel:\n",
    "    \"\"\"\n",
    "    Load a registered model *version* as a PyFunc model.\n",
    "    Works regardless of how the model was trained/logged (XGBoost flavor included).\n",
    "\n",
    "    Example URI: models:/my_model/3\n",
    "    \"\"\"\n",
    "    uri = f\"models:/{model_name}/{version}\"\n",
    "    return mlflow.pyfunc.load_model(uri)\n",
    "\n",
    "\n",
    "def predict_with_pyfunc(model: mlflow.pyfunc.PyFuncModel,\n",
    "                        X: Union[pd.DataFrame, np.ndarray, Iterable[Iterable[float]]]) -> np.ndarray:\n",
    "    \"\"\"\n",
    "    Run predictions using a PyFunc model.\n",
    "    Accepts pandas DataFrame or numpy-like 2D structure.\n",
    "    \"\"\"\n",
    "    if not isinstance(X, pd.DataFrame):\n",
    "        X = pd.DataFrame(X)\n",
    "    #print(X)\n",
    "    y_pred = model.predict(X)\n",
    "    # Ensure numpy array\n",
    "    return np.asarray(y_pred)\n",
    "\n",
    "\n",
    "# ---------- Option B: load as raw XGBoost Booster (gives you full XGB control) ----------\n",
    "\n",
    "def load_xgb_booster_version(model_name: str, version: Union[int, str]) -> xgb.Booster:\n",
    "    \"\"\"\n",
    "    Load a registered model *version* as an XGBoost Booster.\n",
    "    (Use when you want raw XGB APIs, e.g., DMatrix and custom prediction params.)\n",
    "    \"\"\"\n",
    "    uri = f\"models:/{model_name}/{version}\"\n",
    "    return mlflow.xgboost.load_model(uri)\n",
    "\n",
    "\n",
    "def predict_with_booster(booster: xgb.Booster,\n",
    "                         X: Union[pd.DataFrame, np.ndarray, Iterable[Iterable[float]]]) -> np.ndarray:\n",
    "    \"\"\"\n",
    "    Run predictions using a raw XGBoost Booster.\n",
    "    \"\"\"\n",
    "    if isinstance(X, pd.DataFrame):\n",
    "        dm = xgb.DMatrix(X.values)\n",
    "    else:\n",
    "        dm = xgb.DMatrix(np.asarray(X))\n",
    "    return booster.predict(dm)\n",
    "\n",
    "\n",
    "# ---------- (Optional) Just download the model files to disk ----------\n",
    "\n",
    "def download_model_version_artifacts(model_name: str,\n",
    "                                     version: Union[int, str],\n",
    "                                     dst_dir: Optional[str] = None) -> str:\n",
    "    \"\"\"\n",
    "    Download all artifacts for a given registered model version to a local directory.\n",
    "    Returns the local path where files were written.\n",
    "    \"\"\"\n",
    "    uri = f\"models:/{model_name}/{version}\"\n",
    "    return download_artifacts(artifact_uri=uri, dst_path=dst_dir)"
   ]
  },
  {
   "cell_type": "code",
   "execution_count": 7,
   "id": "1448228f-c199-41fe-bc0c-72583228e692",
   "metadata": {},
   "outputs": [
    {
     "name": "stderr",
     "output_type": "stream",
     "text": [
      "/opt/conda/lib/python3.10/site-packages/mlflow/store/artifact/utils/models.py:31: FutureWarning: ``mlflow.tracking.client.MlflowClient.get_latest_versions`` is deprecated since 2.9.0. Model registry stages will be removed in a future major release. To learn more about the deprecation of model registry stages, see our migration guide here: https://mlflow.org/docs/latest/model-registry.html#migrating-from-stages\n",
      "  latest = client.get_latest_versions(name, None if stage is None else [stage])\n"
     ]
    },
    {
     "data": {
      "application/vnd.jupyter.widget-view+json": {
       "model_id": "367f7357fc404cca971c62422ff56701",
       "version_major": 2,
       "version_minor": 0
      },
      "text/plain": [
       "Downloading artifacts:   0%|          | 0/5 [00:00<?, ?it/s]"
      ]
     },
     "metadata": {},
     "output_type": "display_data"
    },
    {
     "name": "stdout",
     "output_type": "stream",
     "text": [
      "PyFunc preds: [1]\n"
     ]
    }
   ],
   "source": [
    "pyfunc_model = load_xgb_pyfunc_version(exp_model_name, \"latest\")\n",
    "sample = np.random.rand(1, 30)  # shape must match your training columns\n",
    "preds = predict_with_pyfunc(pyfunc_model, sample)\n",
    "print(\"PyFunc preds:\", preds)"
   ]
  },
  {
   "cell_type": "code",
   "execution_count": null,
   "id": "47cc2538-642d-4d1e-b521-d3fd3d2d5d48",
   "metadata": {},
   "outputs": [],
   "source": []
  },
  {
   "cell_type": "markdown",
   "id": "ba3ba01a-f079-4072-a0dc-63cad2010ad2",
   "metadata": {},
   "source": [
    "\n",
    "## Deploy registered model as an endpoint\n",
    "\n",
    "\n",
    "Invoke model endpoint with the following payload\n",
    "```\n",
    "{\n",
    "  \"data\": [\n",
    "\n",
    " [14.2,19.7,92.3,645.0,0.096,0.085,0.05,0.025,0.18,0.062,0.4,1.2,2.8,30.0,0.006,0.02,0.02,0.007,0.02,0.003,15.8,27.0,104.0,780.0,0.125,0.18,0.19,0.07,0.27,0.085]\n",
    "\n",
    "\n",
    "]\n",
    "}\n",
    "```"
   ]
  },
  {
   "cell_type": "code",
   "execution_count": null,
   "id": "5dccafc4-ddba-421d-909a-2ea0d44d2141",
   "metadata": {},
   "outputs": [],
   "source": []
  }
 ],
 "metadata": {
  "kernelspec": {
   "display_name": "Python 3 (ipykernel)",
   "language": "python",
   "name": "python3"
  },
  "language_info": {
   "codemirror_mode": {
    "name": "ipython",
    "version": 3
   },
   "file_extension": ".py",
   "mimetype": "text/x-python",
   "name": "python",
   "nbconvert_exporter": "python",
   "pygments_lexer": "ipython3",
   "version": "3.10.14"
  }
 },
 "nbformat": 4,
 "nbformat_minor": 5
}
