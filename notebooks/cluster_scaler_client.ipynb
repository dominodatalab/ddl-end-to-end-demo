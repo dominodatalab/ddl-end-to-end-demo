{
 "cells": [
  {
   "cell_type": "code",
   "execution_count": 1,
   "id": "aa0b7739-6f23-45cf-abe5-81a8c7d6658c",
   "metadata": {},
   "outputs": [],
   "source": [
    "import sys\n",
    "sys.path.append(\"/mnt/code\")"
   ]
  },
  {
   "cell_type": "code",
   "execution_count": 2,
   "id": "b50fcc65-7e3d-458f-a01c-0135b21ac2cb",
   "metadata": {},
   "outputs": [],
   "source": [
    "from utils import ddl_cluster_scaling_client\n",
    "import json\n"
   ]
  },
  {
   "cell_type": "code",
   "execution_count": 3,
   "id": "de242485-c265-4d63-afbe-79fba181ebfe",
   "metadata": {},
   "outputs": [
    {
     "name": "stdout",
     "output_type": "stream",
     "text": [
      "Bearer eyJhbGciOiJSU\n"
     ]
    }
   ],
   "source": [
    "result = ddl_cluster_scaling_client.get_auth_headers()\n",
    "print(result['Authorization'][0:20])"
   ]
  },
  {
   "cell_type": "code",
   "execution_count": 4,
   "id": "626dc69d-bf2c-40bf-bf80-0ce17a5ab6dd",
   "metadata": {},
   "outputs": [
    {
     "name": "stdout",
     "output_type": "stream",
     "text": [
      "ray-68bb151591ce0f3f1685b6fc\n",
      "http://ddl-cluster-scaler-svc.domino-field.svc.cluster.local/ddl_cluster_scaler/cluster/rayclusters/ray-68bb151591ce0f3f1685b6fc\n",
      "Status code 200\n",
      "Cluster status\n",
      "{\n",
      "  \"clusterStatus\": \"Running\",\n",
      "  \"nodes\": [\n",
      "    \"ray-68bb151591ce0f3f1685b6fc-ray-head-0\",\n",
      "    \"ray-68bb151591ce0f3f1685b6fc-ray-worker-0\"\n",
      "  ],\n",
      "  \"startTime\": \"2025-09-05T16:53:02Z\",\n",
      "  \"workerReplicas\": 1,\n",
      "  \"workerSelector\": \"app.kubernetes.io/component=worker,app.kubernetes.io/instance=ray-68bb151591ce0f3f1685b6fc,app.kubernetes.io/name=ray\"\n",
      "}\n",
      "ray-68bb151591ce0f3f1685b6fc\n",
      "http://ddl-cluster-scaler-svc.domino-field.svc.cluster.local/ddl_cluster_scaler/cluster/rayclusters/ray-68bb151591ce0f3f1685b6fc\n",
      "Status code 200\n",
      "Cluster Autoscaling status\n",
      "{\n",
      "  \"maxReplicas\": 5,\n",
      "  \"minReplicas\": 1\n",
      "}\n",
      "ray-68bb151591ce0f3f1685b6fc\n",
      "http://ddl-cluster-scaler-svc.domino-field.svc.cluster.local/ddl_cluster_scaler/cluster/rayclusters/ray-68bb151591ce0f3f1685b6fc\n",
      "Status code 200\n",
      "Cluster worker replicas\n",
      "1\n"
     ]
    }
   ],
   "source": [
    "j = ddl_cluster_scaling_client.get_cluster_status()['status']\n",
    "print('Cluster status')\n",
    "print(json.dumps(j, indent=2, sort_keys=True, ensure_ascii=False))\n",
    "j = ddl_cluster_scaling_client.get_cluster_status()['spec']['autoscaling']\n",
    "print('Cluster Autoscaling status')\n",
    "print(json.dumps(j, indent=2, sort_keys=True, ensure_ascii=False))\n",
    "j = ddl_cluster_scaling_client.get_cluster_status()['spec']['worker']['replicas']\n",
    "print('Cluster worker replicas')\n",
    "print(j)"
   ]
  },
  {
   "cell_type": "code",
   "execution_count": 5,
   "id": "36746bee-b49a-4c52-a901-5f027fe2264c",
   "metadata": {},
   "outputs": [
    {
     "name": "stdout",
     "output_type": "stream",
     "text": [
      "3\n",
      "Status code 200\n",
      "ray-68bb151591ce0f3f1685b6fc\n",
      "http://ddl-cluster-scaler-svc.domino-field.svc.cluster.local/ddl_cluster_scaler/cluster/rayclusters/ray-68bb151591ce0f3f1685b6fc\n",
      "Status code 200\n",
      "Actual worker nodes 1\n",
      "Expected worker nodes 3\n",
      "Current worker nodes ['ray-68bb151591ce0f3f1685b6fc-ray-worker-0']\n",
      "Scaling not yet done...\n",
      "ray-68bb151591ce0f3f1685b6fc\n",
      "http://ddl-cluster-scaler-svc.domino-field.svc.cluster.local/ddl_cluster_scaler/cluster/rayclusters/ray-68bb151591ce0f3f1685b6fc\n",
      "Status code 200\n",
      "Actual worker nodes 3\n",
      "Expected worker nodes 3\n",
      "Current worker nodes ['ray-68bb151591ce0f3f1685b6fc-ray-worker-0', 'ray-68bb151591ce0f3f1685b6fc-ray-worker-1', 'ray-68bb151591ce0f3f1685b6fc-ray-worker-2']\n"
     ]
    },
    {
     "data": {
      "text/plain": [
       "True"
      ]
     },
     "execution_count": 5,
     "metadata": {},
     "output_type": "execute_result"
    }
   ],
   "source": [
    "j = ddl_cluster_scaling_client.scale_cluster(cluster_kind=\"rayclusters\",worker_hw_tier_name=\"Medium\", replicas=3)\n",
    "json.dumps(j, indent=2, sort_keys=True, ensure_ascii=False)\n",
    "ddl_cluster_scaling_client.wait_until_scaling_complete(cluster_kind=\"rayclusters\")"
   ]
  },
  {
   "cell_type": "code",
   "execution_count": 6,
   "id": "a7f603bb-312a-4063-a2c7-899b79a1d3ad",
   "metadata": {},
   "outputs": [
    {
     "name": "stdout",
     "output_type": "stream",
     "text": [
      "Status code 202\n",
      "2025-09-05T17:46:40Z\n"
     ]
    }
   ],
   "source": [
    "j = ddl_cluster_scaling_client.restart_head_node(cluster_kind=\"rayclusters\")\n",
    "restarts_at = j['started_at']\n",
    "print(restarts_at)"
   ]
  },
  {
   "cell_type": "code",
   "execution_count": 7,
   "id": "85a17fed-2aae-4939-85f8-0b7d44cf77c4",
   "metadata": {},
   "outputs": [
    {
     "name": "stdout",
     "output_type": "stream",
     "text": [
      "Status code 200\n"
     ]
    },
    {
     "data": {
      "text/plain": [
       "{'creationTimestamp': '2025-09-05T16:51:38+00:00',\n",
       " 'evaluated_with': 'started_at',\n",
       " 'namespace': 'domino-compute',\n",
       " 'ok': False,\n",
       " 'pod': 'ray-68bb151591ce0f3f1685b6fc-ray-head-0',\n",
       " 'ready': True,\n",
       " 'restarted': False,\n",
       " 'started_at': '2025-09-05T17:46:40+00:00',\n",
       " 'status': 'not_restarted'}"
      ]
     },
     "execution_count": 7,
     "metadata": {},
     "output_type": "execute_result"
    }
   ],
   "source": [
    "ddl_cluster_scaling_client.restart_head_node_status(cluster_kind=\"rayclusters\",restarted_since=restarts_at)"
   ]
  },
  {
   "cell_type": "code",
   "execution_count": 8,
   "id": "ac1a8bb4-2fef-4058-a1e8-b00c77f65fa2",
   "metadata": {},
   "outputs": [
    {
     "name": "stdout",
     "output_type": "stream",
     "text": [
      "Status code 200\n",
      "not_restarted\n",
      "Wait 3 seconds before checking again\n",
      "Status code 200\n",
      "not_restarted\n",
      "Wait 3 seconds before checking again\n",
      "Status code 200\n",
      "not_restarted\n",
      "Wait 3 seconds before checking again\n",
      "Status code 200\n",
      "not_restarted\n",
      "Wait 3 seconds before checking again\n",
      "Status code 200\n",
      "not_restarted\n",
      "Wait 3 seconds before checking again\n",
      "Status code 200\n",
      "not_restarted\n",
      "Wait 3 seconds before checking again\n",
      "Status code 200\n",
      "restarted_but_not_ready\n",
      "Wait 3 seconds before checking again\n",
      "Status code 200\n",
      "restarted_but_not_ready\n",
      "Wait 3 seconds before checking again\n",
      "Status code 200\n",
      "restarted_and_ready\n"
     ]
    }
   ],
   "source": [
    "ddl_cluster_scaling_client.wait_until_node_restarted(cluster_kind=\"rayclusters\",restarted_since=restarts_at)"
   ]
  },
  {
   "cell_type": "code",
   "execution_count": null,
   "id": "549cd30e-7397-4d74-aa4a-d9e10cd26425",
   "metadata": {},
   "outputs": [
    {
     "name": "stdout",
     "output_type": "stream",
     "text": [
      "1\n",
      "Status code 200\n",
      "ray-68bb151591ce0f3f1685b6fc\n",
      "http://ddl-cluster-scaler-svc.domino-field.svc.cluster.local/ddl_cluster_scaler/cluster/rayclusters/ray-68bb151591ce0f3f1685b6fc\n",
      "Status code 200\n",
      "Actual worker nodes 3\n",
      "Expected worker nodes 1\n",
      "Current worker nodes ['ray-68bb151591ce0f3f1685b6fc-ray-worker-0', 'ray-68bb151591ce0f3f1685b6fc-ray-worker-1', 'ray-68bb151591ce0f3f1685b6fc-ray-worker-2']\n",
      "Scaling not yet done...\n",
      "ray-68bb151591ce0f3f1685b6fc\n",
      "http://ddl-cluster-scaler-svc.domino-field.svc.cluster.local/ddl_cluster_scaler/cluster/rayclusters/ray-68bb151591ce0f3f1685b6fc\n",
      "Status code 200\n",
      "Actual worker nodes 3\n",
      "Expected worker nodes 1\n",
      "Current worker nodes ['ray-68bb151591ce0f3f1685b6fc-ray-worker-0', 'ray-68bb151591ce0f3f1685b6fc-ray-worker-1', 'ray-68bb151591ce0f3f1685b6fc-ray-worker-2']\n",
      "Scaling not yet done...\n",
      "ray-68bb151591ce0f3f1685b6fc\n",
      "http://ddl-cluster-scaler-svc.domino-field.svc.cluster.local/ddl_cluster_scaler/cluster/rayclusters/ray-68bb151591ce0f3f1685b6fc\n",
      "Status code 200\n",
      "Actual worker nodes 3\n",
      "Expected worker nodes 1\n",
      "Current worker nodes ['ray-68bb151591ce0f3f1685b6fc-ray-worker-0', 'ray-68bb151591ce0f3f1685b6fc-ray-worker-1', 'ray-68bb151591ce0f3f1685b6fc-ray-worker-2']\n",
      "Scaling not yet done...\n",
      "ray-68bb151591ce0f3f1685b6fc\n",
      "http://ddl-cluster-scaler-svc.domino-field.svc.cluster.local/ddl_cluster_scaler/cluster/rayclusters/ray-68bb151591ce0f3f1685b6fc\n",
      "Status code 200\n",
      "Actual worker nodes 3\n",
      "Expected worker nodes 1\n",
      "Current worker nodes ['ray-68bb151591ce0f3f1685b6fc-ray-worker-0', 'ray-68bb151591ce0f3f1685b6fc-ray-worker-1', 'ray-68bb151591ce0f3f1685b6fc-ray-worker-2']\n",
      "Scaling not yet done...\n",
      "ray-68bb151591ce0f3f1685b6fc\n",
      "http://ddl-cluster-scaler-svc.domino-field.svc.cluster.local/ddl_cluster_scaler/cluster/rayclusters/ray-68bb151591ce0f3f1685b6fc\n",
      "Status code 200\n",
      "Actual worker nodes 3\n",
      "Expected worker nodes 1\n",
      "Current worker nodes ['ray-68bb151591ce0f3f1685b6fc-ray-worker-0', 'ray-68bb151591ce0f3f1685b6fc-ray-worker-1', 'ray-68bb151591ce0f3f1685b6fc-ray-worker-2']\n",
      "Scaling not yet done...\n"
     ]
    }
   ],
   "source": [
    "j = ddl_cluster_scaling_client.scale_cluster(cluster_kind=\"rayclusters\",worker_hw_tier_name=\"Small\", replicas=1)\n",
    "json.dumps(j, indent=2, sort_keys=True, ensure_ascii=False)\n",
    "ddl_cluster_scaling_client.wait_until_scaling_complete(cluster_kind=\"rayclusters\")"
   ]
  },
  {
   "cell_type": "code",
   "execution_count": null,
   "id": "5d94d772-41f4-4ca8-a4d6-2ecf7d5c54bc",
   "metadata": {},
   "outputs": [],
   "source": [
    "ddl_cluster_scaling_client.restart_head_node_status(cluster_kind=\"rayclusters\",restarted_since=restarts_at)\n",
    "ddl_cluster_scaling_client.wait_until_node_restarted(cluster_kind=\"rayclusters\",restarted_since=restarts_at)"
   ]
  }
 ],
 "metadata": {
  "kernelspec": {
   "display_name": "Python 3 (ipykernel)",
   "language": "python",
   "name": "python3"
  },
  "language_info": {
   "codemirror_mode": {
    "name": "ipython",
    "version": 3
   },
   "file_extension": ".py",
   "mimetype": "text/x-python",
   "name": "python",
   "nbconvert_exporter": "python",
   "pygments_lexer": "ipython3",
   "version": "3.10.14"
  }
 },
 "nbformat": 4,
 "nbformat_minor": 5
}
