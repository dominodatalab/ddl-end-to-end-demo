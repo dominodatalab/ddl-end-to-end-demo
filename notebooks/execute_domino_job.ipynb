{
 "cells": [
  {
   "cell_type": "code",
   "execution_count": 1,
   "id": "e8cdf3b7-0caf-498b-a383-6432e6b0c932",
   "metadata": {},
   "outputs": [],
   "source": [
    "import sys\n",
    "sys.path.append(\"/mnt/code\")"
   ]
  },
  {
   "cell_type": "code",
   "execution_count": 2,
   "id": "9643d8fd-750a-4a82-8728-c2bd241bb0f5",
   "metadata": {},
   "outputs": [],
   "source": [
    "import os\n",
    "import requests"
   ]
  },
  {
   "cell_type": "code",
   "execution_count": 47,
   "id": "fe328509-62e4-4a46-839c-8a50db8115f7",
   "metadata": {},
   "outputs": [],
   "source": [
    "import json\n",
    "def get_hw_tier_id(name: str):\n",
    "    api_proxy = os.environ['DOMINO_API_PROXY']\n",
    "    url = f\"{api_proxy}/v4/hardwareTier\"\n",
    "    results = requests.get(url)\n",
    "    hw_tiers = results.json()['hardwareTiers']\n",
    "    for h in hw_tiers:\n",
    "        if h['name']==name:\n",
    "            return h\n",
    "\n",
    "def get_environment_id(name: str):\n",
    "    api_proxy = os.environ['DOMINO_API_PROXY']\n",
    "    url = f\"{api_proxy}/v4/environments/self\"\n",
    "    results = requests.get(url)\n",
    "    envs = results.json()\n",
    "    for e in envs:\n",
    "        if e['name']==name:    \n",
    "            #print(json.dumps(e, indent=4))\n",
    "            return e\n"
   ]
  },
  {
   "cell_type": "code",
   "execution_count": null,
   "id": "71b718ae-ca54-42f6-87e2-186c9044ef39",
   "metadata": {},
   "outputs": [],
   "source": [
    "from domino import Domino\n",
    "\n",
    "compute_hw_tier_id = get_hw_tier_id(name=\"Medium\")['id']\n",
    "head_hw_tier_id = get_hw_tier_id(name=\"Medium\")['id']\n",
    "worker_hw_tier_id = get_hw_tier_id(name=\"Medium\")['id']\n",
    "\n",
    "#command=\"python -m ray_examples.xgboost --config-dir /mnt/code/conf env=dev\"\n",
    "command=\"/mnt/code/scripts/ray_xgboost.sh\"\n",
    "hardware_tier_name=\"Medium\"\n",
    "##Ensure that the environments are not private and visible to the service account or any account attempting to use it\n",
    "cluster_env_id = get_environment_id('SW-Domino 6.0 Ray Cluster Env')['id']\n",
    "#compute_env_id = get_environment_id('SW-DSE6+Ray Env')['latestRevisionDetails']['id']\n",
    "compute_env_id = get_environment_id('SW-DSE6+Ray Env')['id']\n",
    "\n",
    "print(f\"Cluster Env Id {cluster_env_id}\")\n",
    "print(f\"Compute Env Id {compute_env_id}\")\n",
    "title = f\"Ray XGBoost {os.environ['DOMINO_STARTING_USERNAME']}\""
   ]
  },
  {
   "cell_type": "code",
   "execution_count": 64,
   "id": "cd0f98f6-aa4f-4369-bfbb-9a10517e6c7b",
   "metadata": {},
   "outputs": [],
   "source": [
    "svc_token=os.environ['SVC_ACCOUNT_TOKEN']\n",
    "#For convinience I use the current users access token. But mention why\n",
    "svc_token = requests.get(f\"{os.environ['DOMINO_API_PROXY']}/access-token\").text\n",
    "domino_external_url = \"https://marcdo77364.cs.domino.tech/\" #Change accordingly\n",
    "project_owner = os.environ['DOMINO_PROJECT_OWNER']\n",
    "project_name = os.environ['DOMINO_PROJECT_NAME']\n",
    "project_id = f\"{project_owner}/{project_name}\"\n",
    "domino = Domino(project=project_id,auth_token=svc_token,host=domino_external_url)\n",
    "#domino = Domino(\"wadkars/ddl-end-to-end-demo\")"
   ]
  },
  {
   "cell_type": "code",
   "execution_count": null,
   "id": "0a511364-d244-423f-a528-58c1cf63ebdf",
   "metadata": {},
   "outputs": [],
   "source": []
  },
  {
   "cell_type": "code",
   "execution_count": 65,
   "id": "499f3dd5-c356-47ff-a06f-73d2063059e9",
   "metadata": {},
   "outputs": [],
   "source": [
    "compute_cluster = {\n",
    "    \"clusterType\": \"Ray\",\n",
    "    \"computeEnvironmentId\": cluster_env_id,\n",
    "    \"computeEnvironmentRevisionSpec\": \"ActiveRevision\",    \n",
    "    \"masterHardwareTierId\": head_hw_tier_id,\n",
    "    \"workerCount\": 4,\n",
    "    \"workerHardwareTierId\": worker_hw_tier_id,\n",
    "    #\"maxWorkerCount\": 4\n",
    "}"
   ]
  },
  {
   "cell_type": "code",
   "execution_count": null,
   "id": "e615c5a0-7441-4433-8a2a-24535674108d",
   "metadata": {},
   "outputs": [
    {
     "name": "stderr",
     "output_type": "stream",
     "text": [
      "INFO:domino.domino:Polling Job: 68d12a1770666558869fbe44 status is completed: False\n",
      "INFO:domino.domino:Polling Job: 68d12a1770666558869fbe44 status is completed: False\n",
      "INFO:domino.domino:Polling Job: 68d12a1770666558869fbe44 status is completed: False\n",
      "INFO:domino.domino:Polling Job: 68d12a1770666558869fbe44 status is completed: False\n",
      "INFO:domino.domino:Polling Job: 68d12a1770666558869fbe44 status is completed: False\n",
      "INFO:domino.domino:Polling Job: 68d12a1770666558869fbe44 status is completed: False\n",
      "INFO:domino.domino:Polling Job: 68d12a1770666558869fbe44 status is completed: False\n",
      "INFO:domino.domino:Polling Job: 68d12a1770666558869fbe44 status is completed: False\n",
      "INFO:domino.domino:Polling Job: 68d12a1770666558869fbe44 status is completed: False\n",
      "INFO:domino.domino:Polling Job: 68d12a1770666558869fbe44 status is completed: False\n",
      "INFO:domino.domino:Polling Job: 68d12a1770666558869fbe44 status is completed: False\n",
      "INFO:domino.domino:Polling Job: 68d12a1770666558869fbe44 status is completed: False\n",
      "INFO:domino.domino:Polling Job: 68d12a1770666558869fbe44 status is completed: False\n",
      "INFO:domino.domino:Polling Job: 68d12a1770666558869fbe44 status is completed: False\n",
      "INFO:domino.domino:Polling Job: 68d12a1770666558869fbe44 status is completed: False\n",
      "INFO:domino.domino:Polling Job: 68d12a1770666558869fbe44 status is completed: False\n",
      "INFO:domino.domino:Polling Job: 68d12a1770666558869fbe44 status is completed: False\n",
      "INFO:domino.domino:Polling Job: 68d12a1770666558869fbe44 status is completed: False\n",
      "INFO:domino.domino:Polling Job: 68d12a1770666558869fbe44 status is completed: False\n",
      "INFO:domino.domino:Polling Job: 68d12a1770666558869fbe44 status is completed: False\n",
      "INFO:domino.domino:Polling Job: 68d12a1770666558869fbe44 status is completed: False\n",
      "INFO:domino.domino:Polling Job: 68d12a1770666558869fbe44 status is completed: False\n",
      "INFO:domino.domino:Polling Job: 68d12a1770666558869fbe44 status is completed: False\n",
      "INFO:domino.domino:Polling Job: 68d12a1770666558869fbe44 status is completed: False\n",
      "INFO:domino.domino:Polling Job: 68d12a1770666558869fbe44 status is completed: False\n",
      "INFO:domino.domino:Polling Job: 68d12a1770666558869fbe44 status is completed: False\n",
      "INFO:domino.domino:Polling Job: 68d12a1770666558869fbe44 status is completed: False\n",
      "INFO:domino.domino:Polling Job: 68d12a1770666558869fbe44 status is completed: False\n",
      "INFO:domino.domino:Polling Job: 68d12a1770666558869fbe44 status is completed: False\n",
      "INFO:domino.domino:Polling Job: 68d12a1770666558869fbe44 status is completed: False\n",
      "INFO:domino.domino:Polling Job: 68d12a1770666558869fbe44 status is completed: False\n",
      "INFO:domino.domino:Polling Job: 68d12a1770666558869fbe44 status is completed: False\n",
      "INFO:domino.domino:Polling Job: 68d12a1770666558869fbe44 status is completed: False\n",
      "INFO:domino.domino:Polling Job: 68d12a1770666558869fbe44 status is completed: False\n",
      "INFO:domino.domino:Polling Job: 68d12a1770666558869fbe44 status is completed: False\n",
      "INFO:domino.domino:Polling Job: 68d12a1770666558869fbe44 status is completed: False\n",
      "INFO:domino.domino:Polling Job: 68d12a1770666558869fbe44 status is completed: False\n",
      "INFO:domino.domino:Polling Job: 68d12a1770666558869fbe44 status is completed: False\n",
      "INFO:domino.domino:Polling Job: 68d12a1770666558869fbe44 status is completed: False\n",
      "INFO:domino.domino:Polling Job: 68d12a1770666558869fbe44 status is completed: False\n",
      "INFO:domino.domino:Polling Job: 68d12a1770666558869fbe44 status is completed: False\n",
      "INFO:domino.domino:Polling Job: 68d12a1770666558869fbe44 status is completed: False\n",
      "INFO:domino.domino:Polling Job: 68d12a1770666558869fbe44 status is completed: False\n",
      "INFO:domino.domino:Polling Job: 68d12a1770666558869fbe44 status is completed: False\n",
      "INFO:domino.domino:Polling Job: 68d12a1770666558869fbe44 status is completed: False\n",
      "INFO:domino.domino:Polling Job: 68d12a1770666558869fbe44 status is completed: False\n",
      "INFO:domino.domino:Polling Job: 68d12a1770666558869fbe44 status is completed: False\n",
      "INFO:domino.domino:Polling Job: 68d12a1770666558869fbe44 status is completed: False\n",
      "INFO:domino.domino:Polling Job: 68d12a1770666558869fbe44 status is completed: False\n",
      "INFO:domino.domino:Polling Job: 68d12a1770666558869fbe44 status is completed: False\n",
      "INFO:domino.domino:Polling Job: 68d12a1770666558869fbe44 status is completed: False\n",
      "INFO:domino.domino:Polling Job: 68d12a1770666558869fbe44 status is completed: False\n",
      "INFO:domino.domino:Polling Job: 68d12a1770666558869fbe44 status is completed: False\n",
      "INFO:domino.domino:Polling Job: 68d12a1770666558869fbe44 status is completed: False\n",
      "INFO:domino.domino:Polling Job: 68d12a1770666558869fbe44 status is completed: False\n",
      "INFO:domino.domino:Polling Job: 68d12a1770666558869fbe44 status is completed: False\n",
      "INFO:domino.domino:Polling Job: 68d12a1770666558869fbe44 status is completed: False\n",
      "INFO:domino.domino:Polling Job: 68d12a1770666558869fbe44 status is completed: False\n",
      "INFO:domino.domino:Polling Job: 68d12a1770666558869fbe44 status is completed: False\n",
      "INFO:domino.domino:Polling Job: 68d12a1770666558869fbe44 status is completed: False\n",
      "INFO:domino.domino:Polling Job: 68d12a1770666558869fbe44 status is completed: False\n",
      "INFO:domino.domino:Polling Job: 68d12a1770666558869fbe44 status is completed: False\n",
      "INFO:domino.domino:Polling Job: 68d12a1770666558869fbe44 status is completed: False\n",
      "INFO:domino.domino:Polling Job: 68d12a1770666558869fbe44 status is completed: False\n",
      "INFO:domino.domino:Polling Job: 68d12a1770666558869fbe44 status is completed: False\n",
      "INFO:domino.domino:Polling Job: 68d12a1770666558869fbe44 status is completed: False\n",
      "INFO:domino.domino:Polling Job: 68d12a1770666558869fbe44 status is completed: False\n"
     ]
    }
   ],
   "source": [
    "domino.job_start_blocking(poll_freq=5,max_poll_time=6000,title=title,command=command,\n",
    "                 hardware_tier_name=\"Medium\",environment_id=compute_env_id,\n",
    "                 compute_cluster_properties=compute_cluster)"
   ]
  },
  {
   "cell_type": "code",
   "execution_count": null,
   "id": "1242c369-d013-4a79-82f1-8c2ac356ca3a",
   "metadata": {},
   "outputs": [],
   "source": []
  }
 ],
 "metadata": {
  "kernelspec": {
   "display_name": "Python 3 (ipykernel)",
   "language": "python",
   "name": "python3"
  },
  "language_info": {
   "codemirror_mode": {
    "name": "ipython",
    "version": 3
   },
   "file_extension": ".py",
   "mimetype": "text/x-python",
   "name": "python",
   "nbconvert_exporter": "python",
   "pygments_lexer": "ipython3",
   "version": "3.10.14"
  }
 },
 "nbformat": 4,
 "nbformat_minor": 5
}
